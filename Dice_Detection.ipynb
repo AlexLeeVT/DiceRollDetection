{
 "cells": [
  {
   "cell_type": "markdown",
   "metadata": {},
   "source": [
    "# Dice Detection Project\n",
    "Dice detection project for Computer Vision (include description)"
   ]
  },
  {
   "cell_type": "markdown",
   "metadata": {},
   "source": [
    "## 1. Import Dependencies"
   ]
  },
  {
   "cell_type": "code",
   "execution_count": 1,
   "metadata": {},
   "outputs": [],
   "source": [
    "import os\n",
    "import shutil\n",
    "from concurrent.futures import ThreadPoolExecutor\n",
    "\n",
    "import kagglehub\n",
    "from ultralytics import YOLO\n",
    "\n",
    "import numpy as np\n",
    "import pandas as pd\n",
    "import matplotlib.pyplot as plt\n",
    "import cv2\n",
    "from PIL import Image"
   ]
  },
  {
   "cell_type": "markdown",
   "metadata": {},
   "source": [
    "Project constants"
   ]
  },
  {
   "cell_type": "code",
   "execution_count": 2,
   "metadata": {},
   "outputs": [
    {
     "name": "stdout",
     "output_type": "stream",
     "text": [
      "Path to dataset files: C:\\Users\\leeal\\.cache\\kagglehub\\datasets\\nellbyler\\d6-dice\\versions\\3\n"
     ]
    }
   ],
   "source": [
    "path = kagglehub.dataset_download(\"nellbyler/d6-dice\")\n",
    "print(\"Path to dataset files:\", path)\n",
    "\n",
    "# ANNOTATION_PATH = path + \"/d6-dice/Annotations\"\n",
    "# IMAGE_PATH = path + \"/d6-dice/Images\"\n",
    "\n",
    "ANNOTATION_PATH = os.path.join(path, \"d6-dice\", \"Annotations\")\n",
    "IMAGE_PATH = os.path.join(path, \"d6-dice\", \"Images\")\n",
    "\n",
    "# windows delim\n",
    "split_char = '\\\\'\n",
    "\n",
    "# linux delim\n",
    "#split_char = '/'"
   ]
  },
  {
   "cell_type": "markdown",
   "metadata": {},
   "source": [
    "## 2. Split data into train/test/validation"
   ]
  },
  {
   "cell_type": "code",
   "execution_count": 394,
   "metadata": {},
   "outputs": [
    {
     "name": "stdout",
     "output_type": "stream",
     "text": [
      "176\n",
      "37\n",
      "37\n",
      "250\n"
     ]
    }
   ],
   "source": [
    "anotation_files = []\n",
    "for dir,_,files in os.walk(ANNOTATION_PATH):\n",
    "    for filename in files:\n",
    "        if filename[-4:] == '.txt':\n",
    "            anotation_files += [(os.path.join(dir,filename))]\n",
    "\n",
    "# remove classes.txt file from image pool\n",
    "anotation_files.pop(0)\n",
    "\n",
    "# 70/15/15 train-test split\n",
    "train_ratio = .7\n",
    "test_ratio = (1.0 - train_ratio) / 2\n",
    "valid_ratio = test_ratio\n",
    "\n",
    "SIZE = len(anotation_files)\n",
    "N = list(range(SIZE))\n",
    "# random.suffle(N)\n",
    "\n",
    "train_size = int(SIZE * train_ratio)\n",
    "test_size = int(SIZE * test_ratio)\n",
    "valid_size = int(SIZE * valid_ratio)\n",
    "\n",
    "# get indexes of split list\n",
    "#train_i = N[:train_size]\n",
    "#valid_i = N[train_size:(train_size + valid_size)]\n",
    "#test_i = N[train_size+valid_size:]\n",
    "\n",
    "# Add any files that might have been accidentally skipped to the train set\n",
    "while((train_size + test_size + valid_size) < len(anotation_files)):\n",
    "    train_size += 1\n",
    "\n",
    "print(train_size)\n",
    "print(test_size)\n",
    "print(valid_size)\n",
    "print(len(anotation_files))"
   ]
  },
  {
   "cell_type": "markdown",
   "metadata": {},
   "source": [
    "## 3. Organize and prep data for YOLO"
   ]
  },
  {
   "cell_type": "code",
   "execution_count": 395,
   "metadata": {},
   "outputs": [],
   "source": [
    "# Create directories if they don't exist\n",
    "os.makedirs('datasets/train/images', exist_ok=True)\n",
    "os.makedirs('datasets/train/labels', exist_ok=True)\n",
    "\n",
    "os.makedirs('datasets/test/images', exist_ok=True)\n",
    "os.makedirs('datasets/test/labels', exist_ok=True)\n",
    "\n",
    "os.makedirs('datasets/valid/images', exist_ok=True)\n",
    "os.makedirs('datasets/valid/labels', exist_ok=True)\n",
    "\n",
    "# helper to organize files into their respective directories\n",
    "def copy_files(i, dir, ano_files):\n",
    "    # get the image filename\n",
    "    ano_file = ano_files[i]\n",
    "    img_file = ano_file.split(split_char)[-1][0:-4] + '.jpg'\n",
    "\n",
    "    # copy into folders\n",
    "    shutil.copy(ano_file, dir + '/labels')\n",
    "    shutil.copy(os.path.join(IMAGE_PATH, img_file), os.path.join(dir + '/images/', img_file))\n",
    "\n",
    "# copy image and label files into local directories\n",
    "for i in range(train_size):\n",
    "    copy_files(i, './datasets/train', anotation_files)\n",
    "\n",
    "test_start = train_size + valid_size\n",
    "test_end = test_start + test_size\n",
    "for i in range(test_start, test_end):\n",
    "    copy_files(i, './datasets/test', anotation_files)\n",
    "\n",
    "\n",
    "valid_start = train_size\n",
    "valid_end = valid_start + valid_size\n",
    "for i in range(valid_start, valid_end):\n",
    "    copy_files(i, './datasets/valid', anotation_files)"
   ]
  },
  {
   "cell_type": "code",
   "execution_count": 396,
   "metadata": {},
   "outputs": [],
   "source": [
    "import yaml\n",
    "\n",
    "source_path = current_directory = os.getcwd()\n",
    "\n",
    "train_path = os.path.join(source_path, \"datasets\", \"train\")\n",
    "test_path = os.path.join(source_path, \"datasets\", \"test\")\n",
    "valid_path = os.path.join(source_path, \"datasets\", \"valid\")\n",
    "\n",
    "data_yaml = dict(\n",
    "    train = train_path,\n",
    "    test = test_path,\n",
    "    val = valid_path,\n",
    "    \n",
    "    nc = 6,\n",
    "    names = list('123456'),\n",
    ")\n",
    "\n",
    "with open('data.yaml', 'w') as outfile:\n",
    "    yaml.dump(data_yaml, outfile, default_flow_style=True)"
   ]
  },
  {
   "cell_type": "code",
   "execution_count": 3,
   "metadata": {},
   "outputs": [],
   "source": [
    "# load model\n",
    "model = YOLO(\"yolo11x.pt\")  # build from YAML and transfer weights"
   ]
  },
  {
   "cell_type": "markdown",
   "metadata": {},
   "source": [
    "## 4. Train Model"
   ]
  },
  {
   "cell_type": "code",
   "execution_count": 401,
   "metadata": {},
   "outputs": [
    {
     "name": "stdout",
     "output_type": "stream",
     "text": [
      "New https://pypi.org/project/ultralytics/8.3.40 available  Update with 'pip install -U ultralytics'\n",
      "Ultralytics 8.3.34  Python-3.11.5 torch-2.5.1+cpu CPU (AMD Ryzen 9 5900HS with Radeon Graphics)\n",
      "\u001b[34m\u001b[1mengine\\trainer: \u001b[0mtask=detect, mode=train, model=yolo11x.pt, data=./data.yaml, epochs=20, time=None, patience=100, batch=16, imgsz=480, save=True, save_period=-1, cache=False, device=None, workers=8, project=None, name=train, exist_ok=False, pretrained=True, optimizer=auto, verbose=True, seed=0, deterministic=True, single_cls=False, rect=False, cos_lr=False, close_mosaic=10, resume=False, amp=True, fraction=1.0, profile=False, freeze=None, multi_scale=False, overlap_mask=True, mask_ratio=4, dropout=0.0, val=True, split=val, save_json=False, save_hybrid=False, conf=None, iou=0.7, max_det=300, half=False, dnn=False, plots=True, source=None, vid_stride=1, stream_buffer=False, visualize=False, augment=False, agnostic_nms=False, classes=None, retina_masks=False, embed=None, show=False, save_frames=False, save_txt=False, save_conf=False, save_crop=False, show_labels=True, show_conf=True, show_boxes=True, line_width=None, format=torchscript, keras=False, optimize=False, int8=False, dynamic=False, simplify=True, opset=None, workspace=4, nms=False, lr0=0.01, lrf=0.01, momentum=0.937, weight_decay=0.0005, warmup_epochs=3.0, warmup_momentum=0.8, warmup_bias_lr=0.1, box=7.5, cls=0.5, dfl=1.5, pose=12.0, kobj=1.0, label_smoothing=0.0, nbs=64, hsv_h=0.015, hsv_s=0.7, hsv_v=0.4, degrees=0.0, translate=0.1, scale=0.5, shear=0.0, perspective=0.0, flipud=0.0, fliplr=0.5, bgr=0.0, mosaic=1.0, mixup=0.0, copy_paste=0.0, copy_paste_mode=flip, auto_augment=randaugment, erasing=0.4, crop_fraction=1.0, cfg=None, tracker=botsort.yaml, save_dir=c:\\Users\\leeal\\OneDrive - Virginia Tech\\School\\Computer Vision\\DiceRollDetection\\runs\\detect\\train\n",
      "\n",
      "                   from  n    params  module                                       arguments                     \n",
      "  0                  -1  1      2784  ultralytics.nn.modules.conv.Conv             [3, 96, 3, 2]                 \n",
      "  1                  -1  1    166272  ultralytics.nn.modules.conv.Conv             [96, 192, 3, 2]               \n",
      "  2                  -1  2    389760  ultralytics.nn.modules.block.C3k2            [192, 384, 2, True, 0.25]     \n",
      "  3                  -1  1   1327872  ultralytics.nn.modules.conv.Conv             [384, 384, 3, 2]              \n",
      "  4                  -1  2   1553664  ultralytics.nn.modules.block.C3k2            [384, 768, 2, True, 0.25]     \n",
      "  5                  -1  1   5309952  ultralytics.nn.modules.conv.Conv             [768, 768, 3, 2]              \n",
      "  6                  -1  2   5022720  ultralytics.nn.modules.block.C3k2            [768, 768, 2, True]           \n",
      "  7                  -1  1   5309952  ultralytics.nn.modules.conv.Conv             [768, 768, 3, 2]              \n",
      "  8                  -1  2   5022720  ultralytics.nn.modules.block.C3k2            [768, 768, 2, True]           \n",
      "  9                  -1  1   1476864  ultralytics.nn.modules.block.SPPF            [768, 768, 5]                 \n",
      " 10                  -1  2   3264768  ultralytics.nn.modules.block.C2PSA           [768, 768, 2]                 \n",
      " 11                  -1  1         0  torch.nn.modules.upsampling.Upsample         [None, 2, 'nearest']          \n",
      " 12             [-1, 6]  1         0  ultralytics.nn.modules.conv.Concat           [1]                           \n",
      " 13                  -1  2   5612544  ultralytics.nn.modules.block.C3k2            [1536, 768, 2, True]          \n",
      " 14                  -1  1         0  torch.nn.modules.upsampling.Upsample         [None, 2, 'nearest']          \n",
      " 15             [-1, 4]  1         0  ultralytics.nn.modules.conv.Concat           [1]                           \n",
      " 16                  -1  2   1700352  ultralytics.nn.modules.block.C3k2            [1536, 384, 2, True]          \n",
      " 17                  -1  1   1327872  ultralytics.nn.modules.conv.Conv             [384, 384, 3, 2]              \n",
      " 18            [-1, 13]  1         0  ultralytics.nn.modules.conv.Concat           [1]                           \n",
      " 19                  -1  2   5317632  ultralytics.nn.modules.block.C3k2            [1152, 768, 2, True]          \n",
      " 20                  -1  1   5309952  ultralytics.nn.modules.conv.Conv             [768, 768, 3, 2]              \n",
      " 21            [-1, 10]  1         0  ultralytics.nn.modules.conv.Concat           [1]                           \n",
      " 22                  -1  2   5612544  ultralytics.nn.modules.block.C3k2            [1536, 768, 2, True]          \n",
      " 23        [16, 19, 22]  1   3152482  ultralytics.nn.modules.head.Detect           [6, [384, 768, 768]]          \n",
      "YOLO11x summary: 631 layers, 56,880,706 parameters, 56,880,690 gradients, 195.5 GFLOPs\n",
      "\n",
      "Transferred 1015/1015 items from pretrained weights\n",
      "Freezing layer 'model.23.dfl.conv.weight'\n"
     ]
    },
    {
     "name": "stderr",
     "output_type": "stream",
     "text": [
      "\u001b[34m\u001b[1mtrain: \u001b[0mScanning C:\\Users\\leeal\\OneDrive - Virginia Tech\\School\\Computer Vision\\DiceRollDetection\\datasets\\train\\labels.cache... 224 images, 0 backgrounds, 0 corrupt: 100%|██████████| 224/224 [00:00<?, ?it/s]\n",
      "\u001b[34m\u001b[1mval: \u001b[0mScanning C:\\Users\\leeal\\OneDrive - Virginia Tech\\School\\Computer Vision\\DiceRollDetection\\datasets\\valid\\labels.cache... 82 images, 0 backgrounds, 0 corrupt: 100%|██████████| 82/82 [00:00<?, ?it/s]\n"
     ]
    },
    {
     "name": "stdout",
     "output_type": "stream",
     "text": [
      "Plotting labels to c:\\Users\\leeal\\OneDrive - Virginia Tech\\School\\Computer Vision\\DiceRollDetection\\runs\\detect\\train\\labels.jpg... \n",
      "\u001b[34m\u001b[1moptimizer:\u001b[0m 'optimizer=auto' found, ignoring 'lr0=0.01' and 'momentum=0.937' and determining best 'optimizer', 'lr0' and 'momentum' automatically... \n",
      "\u001b[34m\u001b[1moptimizer:\u001b[0m AdamW(lr=0.001, momentum=0.9) with parameter groups 167 weight(decay=0.0), 174 weight(decay=0.0005), 173 bias(decay=0.0)\n",
      "Image sizes 480 train, 480 val\n",
      "Using 0 dataloader workers\n",
      "Logging results to \u001b[1mc:\\Users\\leeal\\OneDrive - Virginia Tech\\School\\Computer Vision\\DiceRollDetection\\runs\\detect\\train\u001b[0m\n",
      "Starting training for 20 epochs...\n",
      "\n",
      "      Epoch    GPU_mem   box_loss   cls_loss   dfl_loss  Instances       Size\n"
     ]
    },
    {
     "name": "stderr",
     "output_type": "stream",
     "text": [
      "       1/20         0G        1.5        2.5      1.051        123        480: 100%|██████████| 14/14 [07:36<00:00, 32.58s/it]\n",
      "                 Class     Images  Instances      Box(P          R      mAP50  mAP50-95):  33%|███▎      | 1/3 [00:26<00:53, 26.73s/it]"
     ]
    },
    {
     "name": "stdout",
     "output_type": "stream",
     "text": [
      "WARNING  NMS time limit 3.600s exceeded\n"
     ]
    },
    {
     "name": "stderr",
     "output_type": "stream",
     "text": [
      "                 Class     Images  Instances      Box(P          R      mAP50  mAP50-95): 100%|██████████| 3/3 [01:09<00:00, 23.06s/it]"
     ]
    },
    {
     "name": "stdout",
     "output_type": "stream",
     "text": [
      "                   all         82        517      0.168      0.763      0.226      0.102\n"
     ]
    },
    {
     "name": "stderr",
     "output_type": "stream",
     "text": [
      "\n"
     ]
    },
    {
     "name": "stdout",
     "output_type": "stream",
     "text": [
      "\n",
      "      Epoch    GPU_mem   box_loss   cls_loss   dfl_loss  Instances       Size\n"
     ]
    },
    {
     "name": "stderr",
     "output_type": "stream",
     "text": [
      "       2/20         0G      1.299      1.608     0.9976        157        480: 100%|██████████| 14/14 [07:18<00:00, 31.34s/it]\n",
      "                 Class     Images  Instances      Box(P          R      mAP50  mAP50-95):   0%|          | 0/3 [00:00<?, ?it/s]"
     ]
    },
    {
     "name": "stdout",
     "output_type": "stream",
     "text": [
      "WARNING  NMS time limit 3.600s exceeded\n"
     ]
    },
    {
     "name": "stderr",
     "output_type": "stream",
     "text": [
      "                 Class     Images  Instances      Box(P          R      mAP50  mAP50-95):  33%|███▎      | 1/3 [00:27<00:54, 27.49s/it]"
     ]
    },
    {
     "name": "stdout",
     "output_type": "stream",
     "text": [
      "WARNING  NMS time limit 3.600s exceeded\n"
     ]
    },
    {
     "name": "stderr",
     "output_type": "stream",
     "text": [
      "                 Class     Images  Instances      Box(P          R      mAP50  mAP50-95):  67%|██████▋   | 2/3 [00:54<00:27, 27.31s/it]"
     ]
    },
    {
     "name": "stdout",
     "output_type": "stream",
     "text": [
      "WARNING  NMS time limit 2.900s exceeded\n"
     ]
    },
    {
     "name": "stderr",
     "output_type": "stream",
     "text": [
      "                 Class     Images  Instances      Box(P          R      mAP50  mAP50-95): 100%|██████████| 3/3 [01:10<00:00, 23.50s/it]"
     ]
    },
    {
     "name": "stdout",
     "output_type": "stream",
     "text": [
      "                   all         82        517      0.168      0.763      0.226      0.102\n"
     ]
    },
    {
     "name": "stderr",
     "output_type": "stream",
     "text": [
      "\n"
     ]
    },
    {
     "name": "stdout",
     "output_type": "stream",
     "text": [
      "\n",
      "      Epoch    GPU_mem   box_loss   cls_loss   dfl_loss  Instances       Size\n"
     ]
    },
    {
     "name": "stderr",
     "output_type": "stream",
     "text": [
      "       3/20         0G       1.31      1.377     0.9827        151        480: 100%|██████████| 14/14 [07:10<00:00, 30.78s/it]\n",
      "                 Class     Images  Instances      Box(P          R      mAP50  mAP50-95):   0%|          | 0/3 [00:00<?, ?it/s]"
     ]
    },
    {
     "name": "stdout",
     "output_type": "stream",
     "text": [
      "WARNING  NMS time limit 3.600s exceeded\n"
     ]
    },
    {
     "name": "stderr",
     "output_type": "stream",
     "text": [
      "                 Class     Images  Instances      Box(P          R      mAP50  mAP50-95):  33%|███▎      | 1/3 [00:27<00:54, 27.05s/it]"
     ]
    },
    {
     "name": "stdout",
     "output_type": "stream",
     "text": [
      "WARNING  NMS time limit 3.600s exceeded\n"
     ]
    },
    {
     "name": "stderr",
     "output_type": "stream",
     "text": [
      "                 Class     Images  Instances      Box(P          R      mAP50  mAP50-95):  67%|██████▋   | 2/3 [00:54<00:27, 27.47s/it]"
     ]
    },
    {
     "name": "stdout",
     "output_type": "stream",
     "text": [
      "WARNING  NMS time limit 2.900s exceeded\n"
     ]
    },
    {
     "name": "stderr",
     "output_type": "stream",
     "text": [
      "                 Class     Images  Instances      Box(P          R      mAP50  mAP50-95): 100%|██████████| 3/3 [01:11<00:00, 23.69s/it]"
     ]
    },
    {
     "name": "stdout",
     "output_type": "stream",
     "text": [
      "                   all         82        517      0.168      0.763      0.226      0.102\n"
     ]
    },
    {
     "name": "stderr",
     "output_type": "stream",
     "text": [
      "\n"
     ]
    },
    {
     "name": "stdout",
     "output_type": "stream",
     "text": [
      "\n",
      "      Epoch    GPU_mem   box_loss   cls_loss   dfl_loss  Instances       Size\n"
     ]
    },
    {
     "name": "stderr",
     "output_type": "stream",
     "text": [
      "       4/20         0G      1.326      1.153      1.003        194        480: 100%|██████████| 14/14 [07:12<00:00, 30.91s/it]\n",
      "                 Class     Images  Instances      Box(P          R      mAP50  mAP50-95): 100%|██████████| 3/3 [01:03<00:00, 21.19s/it]"
     ]
    },
    {
     "name": "stdout",
     "output_type": "stream",
     "text": [
      "                   all         82        517      0.167    0.00556     0.0843     0.0337\n"
     ]
    },
    {
     "name": "stderr",
     "output_type": "stream",
     "text": [
      "\n"
     ]
    },
    {
     "name": "stdout",
     "output_type": "stream",
     "text": [
      "\n",
      "      Epoch    GPU_mem   box_loss   cls_loss   dfl_loss  Instances       Size\n"
     ]
    },
    {
     "name": "stderr",
     "output_type": "stream",
     "text": [
      "       5/20         0G      1.347      1.153     0.9914        125        480: 100%|██████████| 14/14 [07:12<00:00, 30.89s/it]\n",
      "                 Class     Images  Instances      Box(P          R      mAP50  mAP50-95): 100%|██████████| 3/3 [00:59<00:00, 19.98s/it]"
     ]
    },
    {
     "name": "stdout",
     "output_type": "stream",
     "text": [
      "                   all         82        517      0.565      0.327       0.36      0.205\n"
     ]
    },
    {
     "name": "stderr",
     "output_type": "stream",
     "text": [
      "\n"
     ]
    },
    {
     "name": "stdout",
     "output_type": "stream",
     "text": [
      "\n",
      "      Epoch    GPU_mem   box_loss   cls_loss   dfl_loss  Instances       Size\n"
     ]
    },
    {
     "name": "stderr",
     "output_type": "stream",
     "text": [
      "       6/20         0G      1.325      1.047     0.9914        214        480: 100%|██████████| 14/14 [07:10<00:00, 30.78s/it]\n",
      "                 Class     Images  Instances      Box(P          R      mAP50  mAP50-95): 100%|██████████| 3/3 [01:03<00:00, 21.25s/it]"
     ]
    },
    {
     "name": "stdout",
     "output_type": "stream",
     "text": [
      "                   all         82        517       0.45      0.214      0.257      0.159\n"
     ]
    },
    {
     "name": "stderr",
     "output_type": "stream",
     "text": [
      "\n"
     ]
    },
    {
     "name": "stdout",
     "output_type": "stream",
     "text": [
      "\n",
      "      Epoch    GPU_mem   box_loss   cls_loss   dfl_loss  Instances       Size\n"
     ]
    },
    {
     "name": "stderr",
     "output_type": "stream",
     "text": [
      "       7/20         0G       1.35     0.9525      1.004        170        480: 100%|██████████| 14/14 [07:12<00:00, 30.87s/it]\n",
      "                 Class     Images  Instances      Box(P          R      mAP50  mAP50-95):   0%|          | 0/3 [00:00<?, ?it/s]"
     ]
    },
    {
     "name": "stdout",
     "output_type": "stream",
     "text": [
      "WARNING  NMS time limit 3.600s exceeded\n"
     ]
    },
    {
     "name": "stderr",
     "output_type": "stream",
     "text": [
      "                 Class     Images  Instances      Box(P          R      mAP50  mAP50-95):  33%|███▎      | 1/3 [00:27<00:54, 27.48s/it]"
     ]
    },
    {
     "name": "stdout",
     "output_type": "stream",
     "text": [
      "WARNING  NMS time limit 3.600s exceeded\n"
     ]
    },
    {
     "name": "stderr",
     "output_type": "stream",
     "text": [
      "                 Class     Images  Instances      Box(P          R      mAP50  mAP50-95):  67%|██████▋   | 2/3 [00:54<00:27, 27.26s/it]"
     ]
    },
    {
     "name": "stdout",
     "output_type": "stream",
     "text": [
      "WARNING  NMS time limit 2.900s exceeded\n"
     ]
    },
    {
     "name": "stderr",
     "output_type": "stream",
     "text": [
      "                 Class     Images  Instances      Box(P          R      mAP50  mAP50-95): 100%|██████████| 3/3 [01:10<00:00, 23.49s/it]"
     ]
    },
    {
     "name": "stdout",
     "output_type": "stream",
     "text": [
      "                   all         82        517    0.00142      0.011   0.000721   0.000306\n"
     ]
    },
    {
     "name": "stderr",
     "output_type": "stream",
     "text": [
      "\n"
     ]
    },
    {
     "name": "stdout",
     "output_type": "stream",
     "text": [
      "\n",
      "      Epoch    GPU_mem   box_loss   cls_loss   dfl_loss  Instances       Size\n"
     ]
    },
    {
     "name": "stderr",
     "output_type": "stream",
     "text": [
      "       8/20         0G      1.242     0.8776     0.9763         85        480: 100%|██████████| 14/14 [07:10<00:00, 30.72s/it]\n",
      "                 Class     Images  Instances      Box(P          R      mAP50  mAP50-95):   0%|          | 0/3 [00:00<?, ?it/s]"
     ]
    },
    {
     "name": "stdout",
     "output_type": "stream",
     "text": [
      "WARNING  NMS time limit 3.600s exceeded\n"
     ]
    },
    {
     "name": "stderr",
     "output_type": "stream",
     "text": [
      "                 Class     Images  Instances      Box(P          R      mAP50  mAP50-95):  33%|███▎      | 1/3 [00:27<00:54, 27.31s/it]"
     ]
    },
    {
     "name": "stdout",
     "output_type": "stream",
     "text": [
      "WARNING  NMS time limit 3.600s exceeded\n"
     ]
    },
    {
     "name": "stderr",
     "output_type": "stream",
     "text": [
      "                 Class     Images  Instances      Box(P          R      mAP50  mAP50-95):  67%|██████▋   | 2/3 [00:54<00:27, 27.17s/it]"
     ]
    },
    {
     "name": "stdout",
     "output_type": "stream",
     "text": [
      "WARNING  NMS time limit 2.900s exceeded\n"
     ]
    },
    {
     "name": "stderr",
     "output_type": "stream",
     "text": [
      "                 Class     Images  Instances      Box(P          R      mAP50  mAP50-95): 100%|██████████| 3/3 [01:10<00:00, 23.47s/it]"
     ]
    },
    {
     "name": "stdout",
     "output_type": "stream",
     "text": [
      "                   all         82        517      0.661     0.0493      0.315      0.255\n"
     ]
    },
    {
     "name": "stderr",
     "output_type": "stream",
     "text": [
      "\n"
     ]
    },
    {
     "name": "stdout",
     "output_type": "stream",
     "text": [
      "\n",
      "      Epoch    GPU_mem   box_loss   cls_loss   dfl_loss  Instances       Size\n"
     ]
    },
    {
     "name": "stderr",
     "output_type": "stream",
     "text": [
      "       9/20         0G      1.272      0.846     0.9727        181        480: 100%|██████████| 14/14 [07:12<00:00, 30.92s/it]\n",
      "                 Class     Images  Instances      Box(P          R      mAP50  mAP50-95):   0%|          | 0/3 [00:00<?, ?it/s]"
     ]
    },
    {
     "name": "stdout",
     "output_type": "stream",
     "text": [
      "WARNING  NMS time limit 3.600s exceeded\n"
     ]
    },
    {
     "name": "stderr",
     "output_type": "stream",
     "text": [
      "                 Class     Images  Instances      Box(P          R      mAP50  mAP50-95):  33%|███▎      | 1/3 [00:27<00:55, 27.67s/it]"
     ]
    },
    {
     "name": "stdout",
     "output_type": "stream",
     "text": [
      "WARNING  NMS time limit 3.600s exceeded\n"
     ]
    },
    {
     "name": "stderr",
     "output_type": "stream",
     "text": [
      "                 Class     Images  Instances      Box(P          R      mAP50  mAP50-95):  67%|██████▋   | 2/3 [00:54<00:27, 27.34s/it]"
     ]
    },
    {
     "name": "stdout",
     "output_type": "stream",
     "text": [
      "WARNING  NMS time limit 2.900s exceeded\n"
     ]
    },
    {
     "name": "stderr",
     "output_type": "stream",
     "text": [
      "                 Class     Images  Instances      Box(P          R      mAP50  mAP50-95): 100%|██████████| 3/3 [01:10<00:00, 23.59s/it]"
     ]
    },
    {
     "name": "stdout",
     "output_type": "stream",
     "text": [
      "                   all         82        517      0.661     0.0493      0.315      0.255\n"
     ]
    },
    {
     "name": "stderr",
     "output_type": "stream",
     "text": [
      "\n"
     ]
    },
    {
     "name": "stdout",
     "output_type": "stream",
     "text": [
      "\n",
      "      Epoch    GPU_mem   box_loss   cls_loss   dfl_loss  Instances       Size\n"
     ]
    },
    {
     "name": "stderr",
     "output_type": "stream",
     "text": [
      "      10/20         0G      1.287     0.7575     0.9656        136        480: 100%|██████████| 14/14 [07:08<00:00, 30.64s/it]\n",
      "                 Class     Images  Instances      Box(P          R      mAP50  mAP50-95): 100%|██████████| 3/3 [00:59<00:00, 19.95s/it]"
     ]
    },
    {
     "name": "stdout",
     "output_type": "stream",
     "text": [
      "                   all         82        517      0.946      0.958      0.982      0.643\n"
     ]
    },
    {
     "name": "stderr",
     "output_type": "stream",
     "text": [
      "\n"
     ]
    },
    {
     "name": "stdout",
     "output_type": "stream",
     "text": [
      "Closing dataloader mosaic\n",
      "\n",
      "      Epoch    GPU_mem   box_loss   cls_loss   dfl_loss  Instances       Size\n"
     ]
    },
    {
     "name": "stderr",
     "output_type": "stream",
     "text": [
      "      11/20         0G       1.21     0.6155      0.999         99        480: 100%|██████████| 14/14 [07:09<00:00, 30.70s/it]\n",
      "                 Class     Images  Instances      Box(P          R      mAP50  mAP50-95): 100%|██████████| 3/3 [00:59<00:00, 19.79s/it]"
     ]
    },
    {
     "name": "stdout",
     "output_type": "stream",
     "text": [
      "                   all         82        517      0.969      0.957      0.987       0.62\n"
     ]
    },
    {
     "name": "stderr",
     "output_type": "stream",
     "text": [
      "\n"
     ]
    },
    {
     "name": "stdout",
     "output_type": "stream",
     "text": [
      "\n",
      "      Epoch    GPU_mem   box_loss   cls_loss   dfl_loss  Instances       Size\n"
     ]
    },
    {
     "name": "stderr",
     "output_type": "stream",
     "text": [
      "      12/20         0G      1.225     0.6064      1.013         92        480: 100%|██████████| 14/14 [07:10<00:00, 30.72s/it]\n",
      "                 Class     Images  Instances      Box(P          R      mAP50  mAP50-95): 100%|██████████| 3/3 [01:00<00:00, 20.06s/it]"
     ]
    },
    {
     "name": "stdout",
     "output_type": "stream",
     "text": [
      "                   all         82        517      0.907      0.716      0.863       0.47\n"
     ]
    },
    {
     "name": "stderr",
     "output_type": "stream",
     "text": [
      "\n"
     ]
    },
    {
     "name": "stdout",
     "output_type": "stream",
     "text": [
      "\n",
      "      Epoch    GPU_mem   box_loss   cls_loss   dfl_loss  Instances       Size\n"
     ]
    },
    {
     "name": "stderr",
     "output_type": "stream",
     "text": [
      "      13/20         0G      1.231     0.5852      1.002        100        480: 100%|██████████| 14/14 [07:09<00:00, 30.68s/it]\n",
      "                 Class     Images  Instances      Box(P          R      mAP50  mAP50-95): 100%|██████████| 3/3 [01:00<00:00, 20.02s/it]"
     ]
    },
    {
     "name": "stdout",
     "output_type": "stream",
     "text": [
      "                   all         82        517      0.969      0.963      0.985      0.622\n"
     ]
    },
    {
     "name": "stderr",
     "output_type": "stream",
     "text": [
      "\n"
     ]
    },
    {
     "name": "stdout",
     "output_type": "stream",
     "text": [
      "\n",
      "      Epoch    GPU_mem   box_loss   cls_loss   dfl_loss  Instances       Size\n"
     ]
    },
    {
     "name": "stderr",
     "output_type": "stream",
     "text": [
      "      14/20         0G      1.197     0.5457      1.015        122        480: 100%|██████████| 14/14 [07:08<00:00, 30.62s/it]\n",
      "                 Class     Images  Instances      Box(P          R      mAP50  mAP50-95): 100%|██████████| 3/3 [00:59<00:00, 19.83s/it]"
     ]
    },
    {
     "name": "stdout",
     "output_type": "stream",
     "text": [
      "                   all         82        517      0.986      0.969      0.989      0.632\n"
     ]
    },
    {
     "name": "stderr",
     "output_type": "stream",
     "text": [
      "\n"
     ]
    },
    {
     "name": "stdout",
     "output_type": "stream",
     "text": [
      "\n",
      "      Epoch    GPU_mem   box_loss   cls_loss   dfl_loss  Instances       Size\n"
     ]
    },
    {
     "name": "stderr",
     "output_type": "stream",
     "text": [
      "      15/20         0G      1.195     0.5543     0.9855        120        480: 100%|██████████| 14/14 [07:11<00:00, 30.81s/it]\n",
      "                 Class     Images  Instances      Box(P          R      mAP50  mAP50-95): 100%|██████████| 3/3 [01:00<00:00, 20.17s/it]"
     ]
    },
    {
     "name": "stdout",
     "output_type": "stream",
     "text": [
      "                   all         82        517       0.98      0.974       0.99      0.647\n"
     ]
    },
    {
     "name": "stderr",
     "output_type": "stream",
     "text": [
      "\n"
     ]
    },
    {
     "name": "stdout",
     "output_type": "stream",
     "text": [
      "\n",
      "      Epoch    GPU_mem   box_loss   cls_loss   dfl_loss  Instances       Size\n"
     ]
    },
    {
     "name": "stderr",
     "output_type": "stream",
     "text": [
      "      16/20         0G      1.185     0.5341      1.004        117        480: 100%|██████████| 14/14 [07:11<00:00, 30.84s/it]\n",
      "                 Class     Images  Instances      Box(P          R      mAP50  mAP50-95): 100%|██████████| 3/3 [01:00<00:00, 20.23s/it]"
     ]
    },
    {
     "name": "stdout",
     "output_type": "stream",
     "text": [
      "                   all         82        517       0.97      0.977      0.988      0.612\n"
     ]
    },
    {
     "name": "stderr",
     "output_type": "stream",
     "text": [
      "\n"
     ]
    },
    {
     "name": "stdout",
     "output_type": "stream",
     "text": [
      "\n",
      "      Epoch    GPU_mem   box_loss   cls_loss   dfl_loss  Instances       Size\n"
     ]
    },
    {
     "name": "stderr",
     "output_type": "stream",
     "text": [
      "      17/20         0G      1.184     0.5288      0.981         95        480: 100%|██████████| 14/14 [07:11<00:00, 30.84s/it]\n",
      "                 Class     Images  Instances      Box(P          R      mAP50  mAP50-95): 100%|██████████| 3/3 [00:59<00:00, 19.85s/it]"
     ]
    },
    {
     "name": "stdout",
     "output_type": "stream",
     "text": [
      "                   all         82        517      0.978       0.97      0.989      0.596\n"
     ]
    },
    {
     "name": "stderr",
     "output_type": "stream",
     "text": [
      "\n"
     ]
    },
    {
     "name": "stdout",
     "output_type": "stream",
     "text": [
      "\n",
      "      Epoch    GPU_mem   box_loss   cls_loss   dfl_loss  Instances       Size\n"
     ]
    },
    {
     "name": "stderr",
     "output_type": "stream",
     "text": [
      "      18/20         0G       1.15     0.5201     0.9807        120        480: 100%|██████████| 14/14 [07:10<00:00, 30.74s/it]\n",
      "                 Class     Images  Instances      Box(P          R      mAP50  mAP50-95): 100%|██████████| 3/3 [01:00<00:00, 20.12s/it]"
     ]
    },
    {
     "name": "stdout",
     "output_type": "stream",
     "text": [
      "                   all         82        517      0.981      0.973      0.987      0.659\n"
     ]
    },
    {
     "name": "stderr",
     "output_type": "stream",
     "text": [
      "\n"
     ]
    },
    {
     "name": "stdout",
     "output_type": "stream",
     "text": [
      "\n",
      "      Epoch    GPU_mem   box_loss   cls_loss   dfl_loss  Instances       Size\n"
     ]
    },
    {
     "name": "stderr",
     "output_type": "stream",
     "text": [
      "      19/20         0G      1.148     0.4993     0.9753         96        480: 100%|██████████| 14/14 [07:12<00:00, 30.91s/it]\n",
      "                 Class     Images  Instances      Box(P          R      mAP50  mAP50-95): 100%|██████████| 3/3 [00:59<00:00, 19.94s/it]"
     ]
    },
    {
     "name": "stdout",
     "output_type": "stream",
     "text": [
      "                   all         82        517      0.974      0.983       0.99      0.647\n"
     ]
    },
    {
     "name": "stderr",
     "output_type": "stream",
     "text": [
      "\n"
     ]
    },
    {
     "name": "stdout",
     "output_type": "stream",
     "text": [
      "\n",
      "      Epoch    GPU_mem   box_loss   cls_loss   dfl_loss  Instances       Size\n"
     ]
    },
    {
     "name": "stderr",
     "output_type": "stream",
     "text": [
      "      20/20         0G      1.142     0.4874      0.984        123        480: 100%|██████████| 14/14 [07:12<00:00, 30.92s/it]\n",
      "                 Class     Images  Instances      Box(P          R      mAP50  mAP50-95): 100%|██████████| 3/3 [01:00<00:00, 20.04s/it]"
     ]
    },
    {
     "name": "stdout",
     "output_type": "stream",
     "text": [
      "                   all         82        517      0.985      0.985      0.989      0.686\n"
     ]
    },
    {
     "name": "stderr",
     "output_type": "stream",
     "text": [
      "\n"
     ]
    },
    {
     "name": "stdout",
     "output_type": "stream",
     "text": [
      "\n",
      "20 epochs completed in 2.769 hours.\n",
      "Optimizer stripped from c:\\Users\\leeal\\OneDrive - Virginia Tech\\School\\Computer Vision\\DiceRollDetection\\runs\\detect\\train\\weights\\last.pt, 114.4MB\n",
      "Optimizer stripped from c:\\Users\\leeal\\OneDrive - Virginia Tech\\School\\Computer Vision\\DiceRollDetection\\runs\\detect\\train\\weights\\best.pt, 114.4MB\n",
      "\n",
      "Validating c:\\Users\\leeal\\OneDrive - Virginia Tech\\School\\Computer Vision\\DiceRollDetection\\runs\\detect\\train\\weights\\best.pt...\n",
      "Ultralytics 8.3.34  Python-3.11.5 torch-2.5.1+cpu CPU (AMD Ryzen 9 5900HS with Radeon Graphics)\n",
      "YOLO11x summary (fused): 464 layers, 56,833,954 parameters, 0 gradients, 194.4 GFLOPs\n"
     ]
    },
    {
     "name": "stderr",
     "output_type": "stream",
     "text": [
      "                 Class     Images  Instances      Box(P          R      mAP50  mAP50-95): 100%|██████████| 3/3 [00:52<00:00, 17.43s/it]\n"
     ]
    },
    {
     "name": "stdout",
     "output_type": "stream",
     "text": [
      "                   all         82        517      0.984      0.986      0.989      0.686\n",
      "                     1         61         97      0.994          1      0.995      0.679\n",
      "                     2         52         92      0.989      0.978      0.991      0.707\n",
      "                     3         49         86      0.977      0.998      0.986      0.671\n",
      "                     4         51         71      0.968      0.972      0.983      0.688\n",
      "                     5         57         92      0.989      0.982      0.987      0.677\n",
      "                     6         47         79      0.991      0.987      0.995      0.695\n",
      "Speed: 2.8ms preprocess, 591.2ms inference, 0.0ms loss, 0.3ms postprocess per image\n",
      "Results saved to \u001b[1mc:\\Users\\leeal\\OneDrive - Virginia Tech\\School\\Computer Vision\\DiceRollDetection\\runs\\detect\\train\u001b[0m\n"
     ]
    }
   ],
   "source": [
    "train_results = model.train(\n",
    "    data = \"./data.yaml\",\n",
    "    epochs = 20,\n",
    "    imgsz = 480\n",
    ")"
   ]
  },
  {
   "cell_type": "markdown",
   "metadata": {},
   "source": [
    "## 5. Masking"
   ]
  },
  {
   "cell_type": "code",
   "execution_count": 4,
   "metadata": {},
   "outputs": [
    {
     "name": "stdout",
     "output_type": "stream",
     "text": [
      "C:\\Users\\leeal\\.cache\\kagglehub\\datasets\\koryakinp\\d6-dices-images\\versions\\2\n",
      "C:\\Users\\leeal\\.cache\\kagglehub\\datasets\\koryakinp\\d6-dices-images\\versions\\2\\dataset-images\\0001091d-6438-4cc3-bb80-a79534f9ccd8.jpg\n"
     ]
    }
   ],
   "source": [
    "pred_dataset_path = kagglehub.dataset_download(\"koryakinp/d6-dices-images\")\n",
    "\n",
    "dataset_images = os.path.join(pred_dataset_path, \"dataset-images\")\n",
    "\n",
    "print(pred_dataset_path)\n",
    "\n",
    "image_dir = os.listdir(os.path.join(pred_dataset_path, 'dataset-images'))\n",
    "image_list = []\n",
    "for file in image_dir:\n",
    "    image_list.append(os.path.join(pred_dataset_path,'dataset-images', file))\n",
    "\n",
    "print(image_list[0])"
   ]
  },
  {
   "cell_type": "code",
   "execution_count": 5,
   "metadata": {},
   "outputs": [],
   "source": [
    "masked_images = []"
   ]
  },
  {
   "cell_type": "markdown",
   "metadata": {},
   "source": [
    "Mask images"
   ]
  },
  {
   "cell_type": "code",
   "execution_count": 6,
   "metadata": {},
   "outputs": [],
   "source": [
    "os.makedirs('test_images/masked_images', exist_ok=True)\n",
    "\n",
    "def save_im(image_path, result):\n",
    "    cv2.imwrite(image_path, result)\n",
    "\n",
    "with ThreadPoolExecutor(max_workers=5) as executor:\n",
    "    futures = []\n",
    "    for i in range(len(image_list)):\n",
    "        image = cv2.imread(image_list[i])\n",
    "        gray_image = cv2.cvtColor(image, cv2.COLOR_BGR2GRAY)\n",
    "\n",
    "        _, dice_mask = cv2.threshold(gray_image, 125, 255, cv2.THRESH_BINARY_INV)\n",
    "        result = cv2.bitwise_and(image, image, mask=dice_mask)\n",
    "        result[dice_mask == 0] = [255, 255, 255]\n",
    "        result[dice_mask != 0] = [0, 0, 0]\n",
    "\n",
    "        #plt.imshow(cv2.cvtColor(result, cv2.COLOR_BGR2RGB))\n",
    "        #plt.axis(\"off\")\n",
    "        #plt.title(\"Masked Dice\")\n",
    "        #plt.show()\n",
    "        #masked_images.append(result)\n",
    "\n",
    "        image_name = 'masked_image'+str(i)+'.jpg'\n",
    "\n",
    "        im_name = os.path.join('test_images', 'masked_images', image_name)\n",
    "        masked_images.append(im_name)\n",
    "\n",
    "        # output to file\n",
    "        #futures.append(executor.submit(save_im, im_name, result))\n",
    "\n",
    "    # wait to retrieve all futures\n",
    "    for future in futures:\n",
    "        future.result()"
   ]
  },
  {
   "cell_type": "code",
   "execution_count": 7,
   "metadata": {},
   "outputs": [
    {
     "data": {
      "image/png": "[encoded data removed]",
      "text/plain": [
       "<Figure size 640x480 with 1 Axes>"
      ]
     },
     "metadata": {},
     "output_type": "display_data"
    }
   ],
   "source": [
    "def show_image(image_path):\n",
    "    # Load the image from the directory\n",
    "    image = Image.open(image_path)\n",
    "\n",
    "    # Display the image using matplotlib\n",
    "    plt.imshow(image)\n",
    "    plt.axis('off')  # Hide the axis\n",
    "    plt.show()\n",
    "\n",
    "show_image(image_list[0])"
   ]
  },
  {
   "cell_type": "markdown",
   "metadata": {},
   "source": [
    "## 6. Predict Using a Different Dataset"
   ]
  },
  {
   "cell_type": "code",
   "execution_count": 8,
   "metadata": {},
   "outputs": [],
   "source": [
    "def get_results(results, image_list, file_name):\n",
    "    keys = [0, 1, 2, 3, 4, 5]\n",
    "    values = [1, 2, 3, 4, 5, 6]\n",
    "\n",
    "    image_list = sorted(image_list)\n",
    "\n",
    "    class_dict = dict(zip(keys, values))\n",
    "\n",
    "    data = pd.DataFrame(columns= range(6))\n",
    "    for i in range(len(results)):\n",
    "        # add the data to a Data Frame\n",
    "        result = pd.DataFrame(results[i].boxes.data.cpu().numpy()).astype(float)\n",
    "        \n",
    "        # append the \n",
    "        file = image_list[i]\n",
    "        result['img index'] = int(i)\n",
    "        result['file'] = file\n",
    "\n",
    "        data = pd.concat([data, result], axis=0)\n",
    "\n",
    "    # rename columns\n",
    "    data.columns = ['x', 'y', 'x2', 'y2', 'cl', 'label', 'i', 'file']\n",
    "\n",
    "    # apply correct labellings\n",
    "    data['label'] = data['label'].map(class_dict)\n",
    "    data['i'] = data['i'].astype(int)\n",
    "    data = data.reset_index(drop=True)\n",
    "\n",
    "    # output data\n",
    "    os.makedirs(\"results\", exist_ok=True)\n",
    "    data.to_csv(os.path.join(\"results\", \"data\", file_name + \".csv\"), index=False, header=True)\n",
    "\n",
    "    display(data)\n",
    "    \n",
    "    return data"
   ]
  },
  {
   "cell_type": "code",
   "execution_count": 29,
   "metadata": {},
   "outputs": [
    {
     "data": {
      "image/png": "[encoded data removed]",
      "text/plain": [
       "<Figure size 640x480 with 1 Axes>"
      ]
     },
     "metadata": {},
     "output_type": "display_data"
    }
   ],
   "source": [
    "show_image(image_list[8])"
   ]
  },
  {
   "cell_type": "markdown",
   "metadata": {},
   "source": [
    "Predict bounding boxes and values of the dice in another dataset"
   ]
  },
  {
   "cell_type": "code",
   "execution_count": 9,
   "metadata": {},
   "outputs": [],
   "source": [
    "trained_model = YOLO(os.path.join(\"runs\", \"detect\", \"train19\", \"weights\", \"best.pt\"))\n",
    "trained_model_e20 = YOLO(os.path.join(\"runs\", \"detect\", \"train\", \"weights\", \"best.pt\"))"
   ]
  },
  {
   "cell_type": "markdown",
   "metadata": {},
   "source": [
    "Predict with epoch = 12"
   ]
  },
  {
   "cell_type": "code",
   "execution_count": null,
   "metadata": {},
   "outputs": [
    {
     "name": "stdout",
     "output_type": "stream",
     "text": [
      "\n",
      "0: 480x480 2 1s, 3 2s, 1 4, 2 6s, 574.4ms\n",
      "1: 480x480 1 1, 2 2s, 1 3, 2 4s, 1 5, 1 6, 574.4ms\n",
      "2: 480x480 1 1, 1 2, 2 3s, 2 4s, 2 5s, 574.4ms\n",
      "3: 480x480 1 1, 2 3s, 1 4, 3 5s, 2 6s, 574.4ms\n",
      "4: 480x480 3 1s, 2 2s, 1 4, 1 5, 1 6, 574.4ms\n",
      "5: 480x480 1 1, 3 2s, 2 5s, 2 6s, 574.4ms\n",
      "6: 480x480 1 1, 1 2, 1 3, 1 5, 2 6s, 574.4ms\n",
      "7: 480x480 1 1, 2 3s, 1 4, 3 5s, 574.4ms\n",
      "8: 480x480 1 2, 1 3, 1 4, 2 6s, 574.4ms\n",
      "9: 480x480 3 2s, 2 3s, 2 5s, 574.4ms\n",
      "10: 480x480 1 1, 2 4s, 1 5, 3 6s, 574.4ms\n",
      "11: 480x480 1 1, 1 2, 2 3s, 2 4s, 1 5, 574.4ms\n",
      "12: 480x480 3 1s, 3 2s, 1 4, 1 5, 574.4ms\n",
      "13: 480x480 3 1s, 1 2, 1 3, 2 6s, 574.4ms\n",
      "14: 480x480 2 1s, 2 3s, 2 4s, 2 5s, 574.4ms\n",
      "15: 480x480 1 1, 2 2s, 2 3s, 1 4, 1 6, 574.4ms\n",
      "16: 480x480 1 1, 2 3s, 1 4, 1 5, 574.4ms\n",
      "17: 480x480 1 2, 2 3s, 3 4s, 1 5, 574.4ms\n",
      "18: 480x480 2 1s, 2 2s, 1 3, 2 6s, 574.4ms\n",
      "19: 480x480 2 1s, 5 6s, 574.4ms\n",
      "Speed: 2.0ms preprocess, 574.4ms inference, 0.8ms postprocess per image at shape (1, 3, 480, 480)\n",
      "\n",
      "0: 480x480 3 1s, 2 2s, 1 4, 2 6s, 561.5ms\n",
      "1: 480x480 1 1, 3 2s, 1 3, 2 4s, 1 5, 1 6, 561.5ms\n",
      "2: 480x480 1 1, 2 2s, 3 3s, 2 4s, 2 5s, 1 6, 561.5ms\n",
      "3: 480x480 1 1, 2 3s, 1 4, 1 5, 2 6s, 561.5ms\n",
      "4: 480x480 4 1s, 2 2s, 1 3, 1 4, 1 5, 1 6, 561.5ms\n",
      "5: 480x480 3 1s, 2 2s, 1 5, 3 6s, 561.5ms\n",
      "6: 480x480 2 1s, 1 2, 1 3, 1 4, 1 5, 2 6s, 561.5ms\n",
      "7: 480x480 1 1, 3 3s, 1 4, 1 5, 2 6s, 561.5ms\n",
      "8: 480x480 1 1, 1 2, 1 3, 1 4, 2 6s, 561.5ms\n",
      "9: 480x480 3 1s, 2 2s, 4 3s, 1 5, 561.5ms\n",
      "10: 480x480 1 1, 2 4s, 1 5, 2 6s, 561.5ms\n",
      "11: 480x480 2 2s, 2 3s, 1 4, 1 5, 561.5ms\n",
      "12: 480x480 4 1s, 3 2s, 1 5, 561.5ms\n",
      "13: 480x480 4 1s, 1 2, 1 3, 2 6s, 561.5ms\n",
      "14: 480x480 2 1s, 2 3s, 2 4s, 2 5s, 561.5ms\n",
      "15: 480x480 3 1s, 2 3s, 2 4s, 1 6, 561.5ms\n",
      "16: 480x480 1 1, 2 3s, 1 4, 1 5, 561.5ms\n",
      "17: 480x480 1 1, 1 2, 4 3s, 1 4, 1 5, 1 6, 561.5ms\n",
      "18: 480x480 4 1s, 1 3, 2 6s, 561.5ms\n",
      "19: 480x480 2 1s, 5 6s, 561.5ms\n",
      "Speed: 1.9ms preprocess, 561.5ms inference, 0.5ms postprocess per image at shape (1, 3, 480, 480)\n"
     ]
    }
   ],
   "source": [
    "results = trained_model.predict(source=image_list[:20], conf=0.2)\n",
    "results_masked = trained_model.predict(source=masked_images[:20], conf=0.2)"
   ]
  },
  {
   "cell_type": "markdown",
   "metadata": {},
   "source": [
    "Predict with epoch=20"
   ]
  },
  {
   "cell_type": "code",
   "execution_count": 15,
   "metadata": {},
   "outputs": [
    {
     "name": "stdout",
     "output_type": "stream",
     "text": [
      "\n",
      "0: 480x480 1 1, 3 2s, 1 4, 2 6s, 546.9ms\n",
      "1: 480x480 2 2s, 1 3, 2 4s, 1 5, 1 6, 546.9ms\n",
      "2: 480x480 1 2, 2 3s, 2 4s, 2 5s, 546.9ms\n",
      "3: 480x480 1 1, 2 3s, 2 4s, 1 5, 2 6s, 546.9ms\n",
      "4: 480x480 1 1, 2 2s, 1 4, 1 5, 1 6, 546.9ms\n",
      "5: 480x480 3 2s, 2 5s, 2 6s, 546.9ms\n",
      "6: 480x480 1 1, 1 2, 1 3, 1 4, 1 5, 2 6s, 546.9ms\n",
      "7: 480x480 1 1, 2 3s, 1 4, 4 5s, 546.9ms\n",
      "8: 480x480 1 2, 1 3, 1 4, 1 5, 2 6s, 546.9ms\n",
      "9: 480x480 3 2s, 2 3s, 2 5s, 1 6, 546.9ms\n",
      "10: 480x480 2 4s, 1 5, 2 6s, 546.9ms\n",
      "11: 480x480 1 2, 3 3s, 1 4, 1 5, 546.9ms\n",
      "12: 480x480 2 1s, 3 2s, 1 4, 1 5, 546.9ms\n",
      "13: 480x480 3 1s, 1 2, 1 3, 2 6s, 546.9ms\n",
      "14: 480x480 2 1s, 1 3, 2 4s, 2 5s, 546.9ms\n",
      "15: 480x480 2 2s, 2 3s, 1 4, 1 6, 546.9ms\n",
      "16: 480x480 1 1, 2 3s, 1 4, 1 5, 546.9ms\n",
      "17: 480x480 1 2, 2 3s, 3 4s, 1 5, 546.9ms\n",
      "18: 480x480 1 1, 2 2s, 1 3, 1 4, 2 6s, 546.9ms\n",
      "19: 480x480 2 1s, 5 6s, 546.9ms\n",
      "Speed: 2.3ms preprocess, 546.9ms inference, 0.3ms postprocess per image at shape (1, 3, 480, 480)\n",
      "\n",
      "0: 480x480 1 1, 2 2s, 1 3, 1 4, 2 6s, 538.3ms\n",
      "1: 480x480 2 2s, 1 3, 2 4s, 1 5, 2 6s, 538.3ms\n",
      "2: 480x480 1 2, 2 3s, 2 4s, 1 5, 1 6, 538.3ms\n",
      "3: 480x480 1 1, 3 3s, 1 4, 1 5, 2 6s, 538.3ms\n",
      "4: 480x480 1 2, 2 3s, 1 4, 1 6, 538.3ms\n",
      "5: 480x480 2 2s, 1 4, 2 5s, 2 6s, 538.3ms\n",
      "6: 480x480 1 1, 1 2, 1 3, 2 4s, 1 5, 538.3ms\n",
      "7: 480x480 1 1, 3 3s, 1 4, 2 5s, 1 6, 538.3ms\n",
      "8: 480x480 1 2, 1 3, 1 4, 1 5, 2 6s, 538.3ms\n",
      "9: 480x480 3 2s, 3 3s, 1 5, 538.3ms\n",
      "10: 480x480 2 4s, 1 5, 3 6s, 538.3ms\n",
      "11: 480x480 1 2, 4 3s, 2 4s, 1 5, 538.3ms\n",
      "12: 480x480 2 1s, 2 2s, 1 3, 1 4, 1 5, 538.3ms\n",
      "13: 480x480 2 1s, 1 2, 1 3, 1 5, 1 6, 538.3ms\n",
      "14: 480x480 1 1, 1 3, 2 4s, 2 5s, 538.3ms\n",
      "15: 480x480 2 2s, 3 3s, 1 4, 1 6, 538.3ms\n",
      "16: 480x480 1 1, 2 3s, 1 4, 1 5, 538.3ms\n",
      "17: 480x480 1 1, 1 2, 2 3s, 2 4s, 1 5, 1 6, 538.3ms\n",
      "18: 480x480 1 1, 1 2, 2 3s, 2 6s, 538.3ms\n",
      "19: 480x480 2 1s, 1 3, 1 5, 4 6s, 538.3ms\n",
      "Speed: 2.1ms preprocess, 538.3ms inference, 0.3ms postprocess per image at shape (1, 3, 480, 480)\n"
     ]
    }
   ],
   "source": [
    "results_e20 = trained_model_e20.predict(source=image_list[:20], conf=0.2)\n",
    "results_e20_masked = trained_model_e20.predict(source=masked_images[:20], conf=0.2)"
   ]
  },
  {
   "cell_type": "markdown",
   "metadata": {},
   "source": [
    "Generate Data Frames"
   ]
  },
  {
   "cell_type": "code",
   "execution_count": 16,
   "metadata": {},
   "outputs": [
    {
     "name": "stderr",
     "output_type": "stream",
     "text": [
      "C:\\Users\\leeal\\AppData\\Local\\Temp\\ipykernel_22996\\32278569.py:19: FutureWarning: The behavior of DataFrame concatenation with empty or all-NA entries is deprecated. In a future version, this will no longer exclude empty or all-NA columns when determining the result dtypes. To retain the old behavior, exclude the relevant entries before the concat operation.\n",
      "  data = pd.concat([data, result], axis=0)\n"
     ]
    },
    {
     "data": {
      "text/html": [
       "<div>\n",
       "<style scoped>\n",
       "    .dataframe tbody tr th:only-of-type {\n",
       "        vertical-align: middle;\n",
       "    }\n",
       "\n",
       "    .dataframe tbody tr th {\n",
       "        vertical-align: top;\n",
       "    }\n",
       "\n",
       "    .dataframe thead th {\n",
       "        text-align: right;\n",
       "    }\n",
       "</style>\n",
       "<table border=\"1\" class=\"dataframe\">\n",
       "  <thead>\n",
       "    <tr style=\"text-align: right;\">\n",
       "      <th></th>\n",
       "      <th>x</th>\n",
       "      <th>y</th>\n",
       "      <th>x2</th>\n",
       "      <th>y2</th>\n",
       "      <th>cl</th>\n",
       "      <th>label</th>\n",
       "      <th>i</th>\n",
       "      <th>file</th>\n",
       "    </tr>\n",
       "  </thead>\n",
       "  <tbody>\n",
       "    <tr>\n",
       "      <th>0</th>\n",
       "      <td>85.956535</td>\n",
       "      <td>141.269653</td>\n",
       "      <td>130.124985</td>\n",
       "      <td>186.964828</td>\n",
       "      <td>0.916102</td>\n",
       "      <td>4</td>\n",
       "      <td>0</td>\n",
       "      <td>C:\\Users\\leeal\\.cache\\kagglehub\\datasets\\korya...</td>\n",
       "    </tr>\n",
       "    <tr>\n",
       "      <th>1</th>\n",
       "      <td>340.447662</td>\n",
       "      <td>344.211578</td>\n",
       "      <td>386.485809</td>\n",
       "      <td>389.874268</td>\n",
       "      <td>0.853071</td>\n",
       "      <td>6</td>\n",
       "      <td>0</td>\n",
       "      <td>C:\\Users\\leeal\\.cache\\kagglehub\\datasets\\korya...</td>\n",
       "    </tr>\n",
       "    <tr>\n",
       "      <th>2</th>\n",
       "      <td>60.501671</td>\n",
       "      <td>37.584240</td>\n",
       "      <td>107.788902</td>\n",
       "      <td>86.368271</td>\n",
       "      <td>0.820382</td>\n",
       "      <td>6</td>\n",
       "      <td>0</td>\n",
       "      <td>C:\\Users\\leeal\\.cache\\kagglehub\\datasets\\korya...</td>\n",
       "    </tr>\n",
       "    <tr>\n",
       "      <th>3</th>\n",
       "      <td>36.548065</td>\n",
       "      <td>331.706299</td>\n",
       "      <td>85.416512</td>\n",
       "      <td>379.563141</td>\n",
       "      <td>0.786982</td>\n",
       "      <td>1</td>\n",
       "      <td>0</td>\n",
       "      <td>C:\\Users\\leeal\\.cache\\kagglehub\\datasets\\korya...</td>\n",
       "    </tr>\n",
       "    <tr>\n",
       "      <th>4</th>\n",
       "      <td>182.049759</td>\n",
       "      <td>329.882111</td>\n",
       "      <td>228.512970</td>\n",
       "      <td>376.264862</td>\n",
       "      <td>0.753410</td>\n",
       "      <td>2</td>\n",
       "      <td>0</td>\n",
       "      <td>C:\\Users\\leeal\\.cache\\kagglehub\\datasets\\korya...</td>\n",
       "    </tr>\n",
       "    <tr>\n",
       "      <th>...</th>\n",
       "      <td>...</td>\n",
       "      <td>...</td>\n",
       "      <td>...</td>\n",
       "      <td>...</td>\n",
       "      <td>...</td>\n",
       "      <td>...</td>\n",
       "      <td>...</td>\n",
       "      <td>...</td>\n",
       "    </tr>\n",
       "    <tr>\n",
       "      <th>139</th>\n",
       "      <td>195.161377</td>\n",
       "      <td>254.241119</td>\n",
       "      <td>241.793045</td>\n",
       "      <td>302.875854</td>\n",
       "      <td>0.849534</td>\n",
       "      <td>6</td>\n",
       "      <td>19</td>\n",
       "      <td>C:\\Users\\leeal\\.cache\\kagglehub\\datasets\\korya...</td>\n",
       "    </tr>\n",
       "    <tr>\n",
       "      <th>140</th>\n",
       "      <td>147.901520</td>\n",
       "      <td>337.410645</td>\n",
       "      <td>195.639862</td>\n",
       "      <td>384.978638</td>\n",
       "      <td>0.848122</td>\n",
       "      <td>1</td>\n",
       "      <td>19</td>\n",
       "      <td>C:\\Users\\leeal\\.cache\\kagglehub\\datasets\\korya...</td>\n",
       "    </tr>\n",
       "    <tr>\n",
       "      <th>141</th>\n",
       "      <td>49.383999</td>\n",
       "      <td>76.250816</td>\n",
       "      <td>95.987831</td>\n",
       "      <td>124.704964</td>\n",
       "      <td>0.831824</td>\n",
       "      <td>6</td>\n",
       "      <td>19</td>\n",
       "      <td>C:\\Users\\leeal\\.cache\\kagglehub\\datasets\\korya...</td>\n",
       "    </tr>\n",
       "    <tr>\n",
       "      <th>142</th>\n",
       "      <td>41.437641</td>\n",
       "      <td>201.946136</td>\n",
       "      <td>90.939857</td>\n",
       "      <td>251.973175</td>\n",
       "      <td>0.825250</td>\n",
       "      <td>6</td>\n",
       "      <td>19</td>\n",
       "      <td>C:\\Users\\leeal\\.cache\\kagglehub\\datasets\\korya...</td>\n",
       "    </tr>\n",
       "    <tr>\n",
       "      <th>143</th>\n",
       "      <td>226.004272</td>\n",
       "      <td>70.564865</td>\n",
       "      <td>268.269684</td>\n",
       "      <td>113.467163</td>\n",
       "      <td>0.781277</td>\n",
       "      <td>1</td>\n",
       "      <td>19</td>\n",
       "      <td>C:\\Users\\leeal\\.cache\\kagglehub\\datasets\\korya...</td>\n",
       "    </tr>\n",
       "  </tbody>\n",
       "</table>\n",
       "<p>144 rows × 8 columns</p>\n",
       "</div>"
      ],
      "text/plain": [
       "              x           y          x2          y2        cl  label   i  \\\n",
       "0     85.956535  141.269653  130.124985  186.964828  0.916102      4   0   \n",
       "1    340.447662  344.211578  386.485809  389.874268  0.853071      6   0   \n",
       "2     60.501671   37.584240  107.788902   86.368271  0.820382      6   0   \n",
       "3     36.548065  331.706299   85.416512  379.563141  0.786982      1   0   \n",
       "4    182.049759  329.882111  228.512970  376.264862  0.753410      2   0   \n",
       "..          ...         ...         ...         ...       ...    ...  ..   \n",
       "139  195.161377  254.241119  241.793045  302.875854  0.849534      6  19   \n",
       "140  147.901520  337.410645  195.639862  384.978638  0.848122      1  19   \n",
       "141   49.383999   76.250816   95.987831  124.704964  0.831824      6  19   \n",
       "142   41.437641  201.946136   90.939857  251.973175  0.825250      6  19   \n",
       "143  226.004272   70.564865  268.269684  113.467163  0.781277      1  19   \n",
       "\n",
       "                                                  file  \n",
       "0    C:\\Users\\leeal\\.cache\\kagglehub\\datasets\\korya...  \n",
       "1    C:\\Users\\leeal\\.cache\\kagglehub\\datasets\\korya...  \n",
       "2    C:\\Users\\leeal\\.cache\\kagglehub\\datasets\\korya...  \n",
       "3    C:\\Users\\leeal\\.cache\\kagglehub\\datasets\\korya...  \n",
       "4    C:\\Users\\leeal\\.cache\\kagglehub\\datasets\\korya...  \n",
       "..                                                 ...  \n",
       "139  C:\\Users\\leeal\\.cache\\kagglehub\\datasets\\korya...  \n",
       "140  C:\\Users\\leeal\\.cache\\kagglehub\\datasets\\korya...  \n",
       "141  C:\\Users\\leeal\\.cache\\kagglehub\\datasets\\korya...  \n",
       "142  C:\\Users\\leeal\\.cache\\kagglehub\\datasets\\korya...  \n",
       "143  C:\\Users\\leeal\\.cache\\kagglehub\\datasets\\korya...  \n",
       "\n",
       "[144 rows x 8 columns]"
      ]
     },
     "metadata": {},
     "output_type": "display_data"
    },
    {
     "name": "stderr",
     "output_type": "stream",
     "text": [
      "C:\\Users\\leeal\\AppData\\Local\\Temp\\ipykernel_22996\\32278569.py:19: FutureWarning: The behavior of DataFrame concatenation with empty or all-NA entries is deprecated. In a future version, this will no longer exclude empty or all-NA columns when determining the result dtypes. To retain the old behavior, exclude the relevant entries before the concat operation.\n",
      "  data = pd.concat([data, result], axis=0)\n"
     ]
    },
    {
     "data": {
      "text/html": [
       "<div>\n",
       "<style scoped>\n",
       "    .dataframe tbody tr th:only-of-type {\n",
       "        vertical-align: middle;\n",
       "    }\n",
       "\n",
       "    .dataframe tbody tr th {\n",
       "        vertical-align: top;\n",
       "    }\n",
       "\n",
       "    .dataframe thead th {\n",
       "        text-align: right;\n",
       "    }\n",
       "</style>\n",
       "<table border=\"1\" class=\"dataframe\">\n",
       "  <thead>\n",
       "    <tr style=\"text-align: right;\">\n",
       "      <th></th>\n",
       "      <th>x</th>\n",
       "      <th>y</th>\n",
       "      <th>x2</th>\n",
       "      <th>y2</th>\n",
       "      <th>cl</th>\n",
       "      <th>label</th>\n",
       "      <th>i</th>\n",
       "      <th>file</th>\n",
       "    </tr>\n",
       "  </thead>\n",
       "  <tbody>\n",
       "    <tr>\n",
       "      <th>0</th>\n",
       "      <td>341.278015</td>\n",
       "      <td>345.780731</td>\n",
       "      <td>386.588379</td>\n",
       "      <td>389.460144</td>\n",
       "      <td>0.863240</td>\n",
       "      <td>6</td>\n",
       "      <td>0</td>\n",
       "      <td>test_images\\masked_images\\masked_image0.jpg</td>\n",
       "    </tr>\n",
       "    <tr>\n",
       "      <th>1</th>\n",
       "      <td>60.296967</td>\n",
       "      <td>37.599270</td>\n",
       "      <td>107.444344</td>\n",
       "      <td>85.423668</td>\n",
       "      <td>0.855326</td>\n",
       "      <td>6</td>\n",
       "      <td>0</td>\n",
       "      <td>test_images\\masked_images\\masked_image0.jpg</td>\n",
       "    </tr>\n",
       "    <tr>\n",
       "      <th>2</th>\n",
       "      <td>86.317871</td>\n",
       "      <td>141.089081</td>\n",
       "      <td>129.242325</td>\n",
       "      <td>185.826248</td>\n",
       "      <td>0.810191</td>\n",
       "      <td>4</td>\n",
       "      <td>0</td>\n",
       "      <td>test_images\\masked_images\\masked_image0.jpg</td>\n",
       "    </tr>\n",
       "    <tr>\n",
       "      <th>3</th>\n",
       "      <td>36.781658</td>\n",
       "      <td>331.356293</td>\n",
       "      <td>85.406960</td>\n",
       "      <td>379.582428</td>\n",
       "      <td>0.785843</td>\n",
       "      <td>1</td>\n",
       "      <td>0</td>\n",
       "      <td>test_images\\masked_images\\masked_image0.jpg</td>\n",
       "    </tr>\n",
       "    <tr>\n",
       "      <th>4</th>\n",
       "      <td>120.439240</td>\n",
       "      <td>116.825806</td>\n",
       "      <td>164.676773</td>\n",
       "      <td>160.845673</td>\n",
       "      <td>0.705994</td>\n",
       "      <td>2</td>\n",
       "      <td>0</td>\n",
       "      <td>test_images\\masked_images\\masked_image0.jpg</td>\n",
       "    </tr>\n",
       "    <tr>\n",
       "      <th>...</th>\n",
       "      <td>...</td>\n",
       "      <td>...</td>\n",
       "      <td>...</td>\n",
       "      <td>...</td>\n",
       "      <td>...</td>\n",
       "      <td>...</td>\n",
       "      <td>...</td>\n",
       "      <td>...</td>\n",
       "    </tr>\n",
       "    <tr>\n",
       "      <th>153</th>\n",
       "      <td>49.360149</td>\n",
       "      <td>75.983650</td>\n",
       "      <td>95.653351</td>\n",
       "      <td>122.419006</td>\n",
       "      <td>0.829284</td>\n",
       "      <td>6</td>\n",
       "      <td>19</td>\n",
       "      <td>test_images\\masked_images\\masked_image10013.jpg</td>\n",
       "    </tr>\n",
       "    <tr>\n",
       "      <th>154</th>\n",
       "      <td>148.012527</td>\n",
       "      <td>338.360474</td>\n",
       "      <td>195.030334</td>\n",
       "      <td>384.598511</td>\n",
       "      <td>0.803652</td>\n",
       "      <td>1</td>\n",
       "      <td>19</td>\n",
       "      <td>test_images\\masked_images\\masked_image10013.jpg</td>\n",
       "    </tr>\n",
       "    <tr>\n",
       "      <th>155</th>\n",
       "      <td>225.624039</td>\n",
       "      <td>70.935616</td>\n",
       "      <td>268.048767</td>\n",
       "      <td>112.494324</td>\n",
       "      <td>0.780874</td>\n",
       "      <td>1</td>\n",
       "      <td>19</td>\n",
       "      <td>test_images\\masked_images\\masked_image10013.jpg</td>\n",
       "    </tr>\n",
       "    <tr>\n",
       "      <th>156</th>\n",
       "      <td>51.690773</td>\n",
       "      <td>31.286892</td>\n",
       "      <td>98.851494</td>\n",
       "      <td>78.044189</td>\n",
       "      <td>0.728702</td>\n",
       "      <td>6</td>\n",
       "      <td>19</td>\n",
       "      <td>test_images\\masked_images\\masked_image10013.jpg</td>\n",
       "    </tr>\n",
       "    <tr>\n",
       "      <th>157</th>\n",
       "      <td>40.985531</td>\n",
       "      <td>203.119614</td>\n",
       "      <td>89.601196</td>\n",
       "      <td>251.710052</td>\n",
       "      <td>0.581985</td>\n",
       "      <td>6</td>\n",
       "      <td>19</td>\n",
       "      <td>test_images\\masked_images\\masked_image10013.jpg</td>\n",
       "    </tr>\n",
       "  </tbody>\n",
       "</table>\n",
       "<p>158 rows × 8 columns</p>\n",
       "</div>"
      ],
      "text/plain": [
       "              x           y          x2          y2        cl  label   i  \\\n",
       "0    341.278015  345.780731  386.588379  389.460144  0.863240      6   0   \n",
       "1     60.296967   37.599270  107.444344   85.423668  0.855326      6   0   \n",
       "2     86.317871  141.089081  129.242325  185.826248  0.810191      4   0   \n",
       "3     36.781658  331.356293   85.406960  379.582428  0.785843      1   0   \n",
       "4    120.439240  116.825806  164.676773  160.845673  0.705994      2   0   \n",
       "..          ...         ...         ...         ...       ...    ...  ..   \n",
       "153   49.360149   75.983650   95.653351  122.419006  0.829284      6  19   \n",
       "154  148.012527  338.360474  195.030334  384.598511  0.803652      1  19   \n",
       "155  225.624039   70.935616  268.048767  112.494324  0.780874      1  19   \n",
       "156   51.690773   31.286892   98.851494   78.044189  0.728702      6  19   \n",
       "157   40.985531  203.119614   89.601196  251.710052  0.581985      6  19   \n",
       "\n",
       "                                                file  \n",
       "0        test_images\\masked_images\\masked_image0.jpg  \n",
       "1        test_images\\masked_images\\masked_image0.jpg  \n",
       "2        test_images\\masked_images\\masked_image0.jpg  \n",
       "3        test_images\\masked_images\\masked_image0.jpg  \n",
       "4        test_images\\masked_images\\masked_image0.jpg  \n",
       "..                                               ...  \n",
       "153  test_images\\masked_images\\masked_image10013.jpg  \n",
       "154  test_images\\masked_images\\masked_image10013.jpg  \n",
       "155  test_images\\masked_images\\masked_image10013.jpg  \n",
       "156  test_images\\masked_images\\masked_image10013.jpg  \n",
       "157  test_images\\masked_images\\masked_image10013.jpg  \n",
       "\n",
       "[158 rows x 8 columns]"
      ]
     },
     "metadata": {},
     "output_type": "display_data"
    },
    {
     "name": "stderr",
     "output_type": "stream",
     "text": [
      "C:\\Users\\leeal\\AppData\\Local\\Temp\\ipykernel_22996\\32278569.py:19: FutureWarning: The behavior of DataFrame concatenation with empty or all-NA entries is deprecated. In a future version, this will no longer exclude empty or all-NA columns when determining the result dtypes. To retain the old behavior, exclude the relevant entries before the concat operation.\n",
      "  data = pd.concat([data, result], axis=0)\n"
     ]
    },
    {
     "data": {
      "text/html": [
       "<div>\n",
       "<style scoped>\n",
       "    .dataframe tbody tr th:only-of-type {\n",
       "        vertical-align: middle;\n",
       "    }\n",
       "\n",
       "    .dataframe tbody tr th {\n",
       "        vertical-align: top;\n",
       "    }\n",
       "\n",
       "    .dataframe thead th {\n",
       "        text-align: right;\n",
       "    }\n",
       "</style>\n",
       "<table border=\"1\" class=\"dataframe\">\n",
       "  <thead>\n",
       "    <tr style=\"text-align: right;\">\n",
       "      <th></th>\n",
       "      <th>x</th>\n",
       "      <th>y</th>\n",
       "      <th>x2</th>\n",
       "      <th>y2</th>\n",
       "      <th>cl</th>\n",
       "      <th>label</th>\n",
       "      <th>i</th>\n",
       "      <th>file</th>\n",
       "    </tr>\n",
       "  </thead>\n",
       "  <tbody>\n",
       "    <tr>\n",
       "      <th>0</th>\n",
       "      <td>87.118317</td>\n",
       "      <td>142.630295</td>\n",
       "      <td>130.873169</td>\n",
       "      <td>184.464722</td>\n",
       "      <td>0.800046</td>\n",
       "      <td>4</td>\n",
       "      <td>0</td>\n",
       "      <td>C:\\Users\\leeal\\.cache\\kagglehub\\datasets\\korya...</td>\n",
       "    </tr>\n",
       "    <tr>\n",
       "      <th>1</th>\n",
       "      <td>61.667900</td>\n",
       "      <td>37.319054</td>\n",
       "      <td>108.523239</td>\n",
       "      <td>85.420593</td>\n",
       "      <td>0.785942</td>\n",
       "      <td>6</td>\n",
       "      <td>0</td>\n",
       "      <td>C:\\Users\\leeal\\.cache\\kagglehub\\datasets\\korya...</td>\n",
       "    </tr>\n",
       "    <tr>\n",
       "      <th>2</th>\n",
       "      <td>340.575500</td>\n",
       "      <td>345.113770</td>\n",
       "      <td>386.287811</td>\n",
       "      <td>389.223938</td>\n",
       "      <td>0.776315</td>\n",
       "      <td>6</td>\n",
       "      <td>0</td>\n",
       "      <td>C:\\Users\\leeal\\.cache\\kagglehub\\datasets\\korya...</td>\n",
       "    </tr>\n",
       "    <tr>\n",
       "      <th>3</th>\n",
       "      <td>120.720566</td>\n",
       "      <td>116.528847</td>\n",
       "      <td>165.515213</td>\n",
       "      <td>162.258102</td>\n",
       "      <td>0.694320</td>\n",
       "      <td>2</td>\n",
       "      <td>0</td>\n",
       "      <td>C:\\Users\\leeal\\.cache\\kagglehub\\datasets\\korya...</td>\n",
       "    </tr>\n",
       "    <tr>\n",
       "      <th>4</th>\n",
       "      <td>36.685898</td>\n",
       "      <td>332.328247</td>\n",
       "      <td>86.020790</td>\n",
       "      <td>380.979187</td>\n",
       "      <td>0.659857</td>\n",
       "      <td>1</td>\n",
       "      <td>0</td>\n",
       "      <td>C:\\Users\\leeal\\.cache\\kagglehub\\datasets\\korya...</td>\n",
       "    </tr>\n",
       "    <tr>\n",
       "      <th>...</th>\n",
       "      <td>...</td>\n",
       "      <td>...</td>\n",
       "      <td>...</td>\n",
       "      <td>...</td>\n",
       "      <td>...</td>\n",
       "      <td>...</td>\n",
       "      <td>...</td>\n",
       "      <td>...</td>\n",
       "    </tr>\n",
       "    <tr>\n",
       "      <th>130</th>\n",
       "      <td>41.968754</td>\n",
       "      <td>203.541992</td>\n",
       "      <td>89.944633</td>\n",
       "      <td>251.713837</td>\n",
       "      <td>0.782694</td>\n",
       "      <td>6</td>\n",
       "      <td>19</td>\n",
       "      <td>C:\\Users\\leeal\\.cache\\kagglehub\\datasets\\korya...</td>\n",
       "    </tr>\n",
       "    <tr>\n",
       "      <th>131</th>\n",
       "      <td>195.610748</td>\n",
       "      <td>255.562439</td>\n",
       "      <td>242.129456</td>\n",
       "      <td>301.984955</td>\n",
       "      <td>0.779430</td>\n",
       "      <td>6</td>\n",
       "      <td>19</td>\n",
       "      <td>C:\\Users\\leeal\\.cache\\kagglehub\\datasets\\korya...</td>\n",
       "    </tr>\n",
       "    <tr>\n",
       "      <th>132</th>\n",
       "      <td>225.899902</td>\n",
       "      <td>70.538116</td>\n",
       "      <td>267.567749</td>\n",
       "      <td>112.325294</td>\n",
       "      <td>0.769258</td>\n",
       "      <td>1</td>\n",
       "      <td>19</td>\n",
       "      <td>C:\\Users\\leeal\\.cache\\kagglehub\\datasets\\korya...</td>\n",
       "    </tr>\n",
       "    <tr>\n",
       "      <th>133</th>\n",
       "      <td>52.517334</td>\n",
       "      <td>31.086296</td>\n",
       "      <td>100.734703</td>\n",
       "      <td>79.576675</td>\n",
       "      <td>0.715525</td>\n",
       "      <td>6</td>\n",
       "      <td>19</td>\n",
       "      <td>C:\\Users\\leeal\\.cache\\kagglehub\\datasets\\korya...</td>\n",
       "    </tr>\n",
       "    <tr>\n",
       "      <th>134</th>\n",
       "      <td>149.269379</td>\n",
       "      <td>337.864441</td>\n",
       "      <td>196.421829</td>\n",
       "      <td>384.488556</td>\n",
       "      <td>0.655533</td>\n",
       "      <td>1</td>\n",
       "      <td>19</td>\n",
       "      <td>C:\\Users\\leeal\\.cache\\kagglehub\\datasets\\korya...</td>\n",
       "    </tr>\n",
       "  </tbody>\n",
       "</table>\n",
       "<p>135 rows × 8 columns</p>\n",
       "</div>"
      ],
      "text/plain": [
       "              x           y          x2          y2        cl  label   i  \\\n",
       "0     87.118317  142.630295  130.873169  184.464722  0.800046      4   0   \n",
       "1     61.667900   37.319054  108.523239   85.420593  0.785942      6   0   \n",
       "2    340.575500  345.113770  386.287811  389.223938  0.776315      6   0   \n",
       "3    120.720566  116.528847  165.515213  162.258102  0.694320      2   0   \n",
       "4     36.685898  332.328247   86.020790  380.979187  0.659857      1   0   \n",
       "..          ...         ...         ...         ...       ...    ...  ..   \n",
       "130   41.968754  203.541992   89.944633  251.713837  0.782694      6  19   \n",
       "131  195.610748  255.562439  242.129456  301.984955  0.779430      6  19   \n",
       "132  225.899902   70.538116  267.567749  112.325294  0.769258      1  19   \n",
       "133   52.517334   31.086296  100.734703   79.576675  0.715525      6  19   \n",
       "134  149.269379  337.864441  196.421829  384.488556  0.655533      1  19   \n",
       "\n",
       "                                                  file  \n",
       "0    C:\\Users\\leeal\\.cache\\kagglehub\\datasets\\korya...  \n",
       "1    C:\\Users\\leeal\\.cache\\kagglehub\\datasets\\korya...  \n",
       "2    C:\\Users\\leeal\\.cache\\kagglehub\\datasets\\korya...  \n",
       "3    C:\\Users\\leeal\\.cache\\kagglehub\\datasets\\korya...  \n",
       "4    C:\\Users\\leeal\\.cache\\kagglehub\\datasets\\korya...  \n",
       "..                                                 ...  \n",
       "130  C:\\Users\\leeal\\.cache\\kagglehub\\datasets\\korya...  \n",
       "131  C:\\Users\\leeal\\.cache\\kagglehub\\datasets\\korya...  \n",
       "132  C:\\Users\\leeal\\.cache\\kagglehub\\datasets\\korya...  \n",
       "133  C:\\Users\\leeal\\.cache\\kagglehub\\datasets\\korya...  \n",
       "134  C:\\Users\\leeal\\.cache\\kagglehub\\datasets\\korya...  \n",
       "\n",
       "[135 rows x 8 columns]"
      ]
     },
     "metadata": {},
     "output_type": "display_data"
    },
    {
     "name": "stderr",
     "output_type": "stream",
     "text": [
      "C:\\Users\\leeal\\AppData\\Local\\Temp\\ipykernel_22996\\32278569.py:19: FutureWarning: The behavior of DataFrame concatenation with empty or all-NA entries is deprecated. In a future version, this will no longer exclude empty or all-NA columns when determining the result dtypes. To retain the old behavior, exclude the relevant entries before the concat operation.\n",
      "  data = pd.concat([data, result], axis=0)\n"
     ]
    },
    {
     "data": {
      "text/html": [
       "<div>\n",
       "<style scoped>\n",
       "    .dataframe tbody tr th:only-of-type {\n",
       "        vertical-align: middle;\n",
       "    }\n",
       "\n",
       "    .dataframe tbody tr th {\n",
       "        vertical-align: top;\n",
       "    }\n",
       "\n",
       "    .dataframe thead th {\n",
       "        text-align: right;\n",
       "    }\n",
       "</style>\n",
       "<table border=\"1\" class=\"dataframe\">\n",
       "  <thead>\n",
       "    <tr style=\"text-align: right;\">\n",
       "      <th></th>\n",
       "      <th>x</th>\n",
       "      <th>y</th>\n",
       "      <th>x2</th>\n",
       "      <th>y2</th>\n",
       "      <th>cl</th>\n",
       "      <th>label</th>\n",
       "      <th>i</th>\n",
       "      <th>file</th>\n",
       "    </tr>\n",
       "  </thead>\n",
       "  <tbody>\n",
       "    <tr>\n",
       "      <th>0</th>\n",
       "      <td>341.888031</td>\n",
       "      <td>345.688629</td>\n",
       "      <td>385.842499</td>\n",
       "      <td>389.410492</td>\n",
       "      <td>0.749480</td>\n",
       "      <td>6</td>\n",
       "      <td>0</td>\n",
       "      <td>test_images\\masked_images\\masked_image0.jpg</td>\n",
       "    </tr>\n",
       "    <tr>\n",
       "      <th>1</th>\n",
       "      <td>86.576424</td>\n",
       "      <td>142.208176</td>\n",
       "      <td>130.086639</td>\n",
       "      <td>184.462006</td>\n",
       "      <td>0.680652</td>\n",
       "      <td>4</td>\n",
       "      <td>0</td>\n",
       "      <td>test_images\\masked_images\\masked_image0.jpg</td>\n",
       "    </tr>\n",
       "    <tr>\n",
       "      <th>2</th>\n",
       "      <td>120.928398</td>\n",
       "      <td>117.393730</td>\n",
       "      <td>164.547470</td>\n",
       "      <td>160.813354</td>\n",
       "      <td>0.640974</td>\n",
       "      <td>2</td>\n",
       "      <td>0</td>\n",
       "      <td>test_images\\masked_images\\masked_image0.jpg</td>\n",
       "    </tr>\n",
       "    <tr>\n",
       "      <th>3</th>\n",
       "      <td>61.538177</td>\n",
       "      <td>38.325363</td>\n",
       "      <td>107.871407</td>\n",
       "      <td>85.785286</td>\n",
       "      <td>0.594684</td>\n",
       "      <td>6</td>\n",
       "      <td>0</td>\n",
       "      <td>test_images\\masked_images\\masked_image0.jpg</td>\n",
       "    </tr>\n",
       "    <tr>\n",
       "      <th>4</th>\n",
       "      <td>36.863861</td>\n",
       "      <td>331.078369</td>\n",
       "      <td>85.367714</td>\n",
       "      <td>380.535187</td>\n",
       "      <td>0.538427</td>\n",
       "      <td>1</td>\n",
       "      <td>0</td>\n",
       "      <td>test_images\\masked_images\\masked_image0.jpg</td>\n",
       "    </tr>\n",
       "    <tr>\n",
       "      <th>...</th>\n",
       "      <td>...</td>\n",
       "      <td>...</td>\n",
       "      <td>...</td>\n",
       "      <td>...</td>\n",
       "      <td>...</td>\n",
       "      <td>...</td>\n",
       "      <td>...</td>\n",
       "      <td>...</td>\n",
       "    </tr>\n",
       "    <tr>\n",
       "      <th>131</th>\n",
       "      <td>196.230728</td>\n",
       "      <td>257.437805</td>\n",
       "      <td>240.509598</td>\n",
       "      <td>300.688141</td>\n",
       "      <td>0.606480</td>\n",
       "      <td>6</td>\n",
       "      <td>19</td>\n",
       "      <td>test_images\\masked_images\\masked_image10013.jpg</td>\n",
       "    </tr>\n",
       "    <tr>\n",
       "      <th>132</th>\n",
       "      <td>149.528915</td>\n",
       "      <td>338.827515</td>\n",
       "      <td>195.255661</td>\n",
       "      <td>384.067169</td>\n",
       "      <td>0.577012</td>\n",
       "      <td>1</td>\n",
       "      <td>19</td>\n",
       "      <td>test_images\\masked_images\\masked_image10013.jpg</td>\n",
       "    </tr>\n",
       "    <tr>\n",
       "      <th>133</th>\n",
       "      <td>226.494629</td>\n",
       "      <td>70.835983</td>\n",
       "      <td>267.274841</td>\n",
       "      <td>112.064598</td>\n",
       "      <td>0.447334</td>\n",
       "      <td>1</td>\n",
       "      <td>19</td>\n",
       "      <td>test_images\\masked_images\\masked_image10013.jpg</td>\n",
       "    </tr>\n",
       "    <tr>\n",
       "      <th>134</th>\n",
       "      <td>52.887516</td>\n",
       "      <td>30.625257</td>\n",
       "      <td>99.974594</td>\n",
       "      <td>77.998772</td>\n",
       "      <td>0.430377</td>\n",
       "      <td>5</td>\n",
       "      <td>19</td>\n",
       "      <td>test_images\\masked_images\\masked_image10013.jpg</td>\n",
       "    </tr>\n",
       "    <tr>\n",
       "      <th>135</th>\n",
       "      <td>196.247559</td>\n",
       "      <td>257.064026</td>\n",
       "      <td>240.612152</td>\n",
       "      <td>301.383514</td>\n",
       "      <td>0.286692</td>\n",
       "      <td>3</td>\n",
       "      <td>19</td>\n",
       "      <td>test_images\\masked_images\\masked_image10013.jpg</td>\n",
       "    </tr>\n",
       "  </tbody>\n",
       "</table>\n",
       "<p>136 rows × 8 columns</p>\n",
       "</div>"
      ],
      "text/plain": [
       "              x           y          x2          y2        cl  label   i  \\\n",
       "0    341.888031  345.688629  385.842499  389.410492  0.749480      6   0   \n",
       "1     86.576424  142.208176  130.086639  184.462006  0.680652      4   0   \n",
       "2    120.928398  117.393730  164.547470  160.813354  0.640974      2   0   \n",
       "3     61.538177   38.325363  107.871407   85.785286  0.594684      6   0   \n",
       "4     36.863861  331.078369   85.367714  380.535187  0.538427      1   0   \n",
       "..          ...         ...         ...         ...       ...    ...  ..   \n",
       "131  196.230728  257.437805  240.509598  300.688141  0.606480      6  19   \n",
       "132  149.528915  338.827515  195.255661  384.067169  0.577012      1  19   \n",
       "133  226.494629   70.835983  267.274841  112.064598  0.447334      1  19   \n",
       "134   52.887516   30.625257   99.974594   77.998772  0.430377      5  19   \n",
       "135  196.247559  257.064026  240.612152  301.383514  0.286692      3  19   \n",
       "\n",
       "                                                file  \n",
       "0        test_images\\masked_images\\masked_image0.jpg  \n",
       "1        test_images\\masked_images\\masked_image0.jpg  \n",
       "2        test_images\\masked_images\\masked_image0.jpg  \n",
       "3        test_images\\masked_images\\masked_image0.jpg  \n",
       "4        test_images\\masked_images\\masked_image0.jpg  \n",
       "..                                               ...  \n",
       "131  test_images\\masked_images\\masked_image10013.jpg  \n",
       "132  test_images\\masked_images\\masked_image10013.jpg  \n",
       "133  test_images\\masked_images\\masked_image10013.jpg  \n",
       "134  test_images\\masked_images\\masked_image10013.jpg  \n",
       "135  test_images\\masked_images\\masked_image10013.jpg  \n",
       "\n",
       "[136 rows x 8 columns]"
      ]
     },
     "metadata": {},
     "output_type": "display_data"
    }
   ],
   "source": [
    "os.makedirs(os.path.join(\"results\",\"data\"), exist_ok=True)\n",
    "\n",
    "orig_df = get_results(results, image_list, \"orig_e12\")\n",
    "masked_df = get_results(results_masked, masked_images, \"masked_e12\")\n",
    "\n",
    "orig_df_e20 = get_results(results_e20, image_list, \"orig_e20\")\n",
    "masked_df_e20 = get_results(results_e20_masked, masked_images, \"masked_e20\")"
   ]
  },
  {
   "cell_type": "markdown",
   "metadata": {},
   "source": [
    "## 7. Remove duplicate bounding boxes"
   ]
  },
  {
   "cell_type": "markdown",
   "metadata": {},
   "source": [
    "Helper Functions"
   ]
  },
  {
   "cell_type": "code",
   "execution_count": 13,
   "metadata": {},
   "outputs": [],
   "source": [
    "def coincides(b1, b2, scale=0.1):\n",
    "    # bounding box (BB) 1 diagonal length\n",
    "    p1 = np.array([b1[0], b1[1]])\n",
    "    p2 = np.array([b1[2], b1[3]])\n",
    "    threshold = np.linalg.norm(p1 - p2) * scale\n",
    "\n",
    "    # distance between BB 1 and BB 2\n",
    "    p1 = np.array([b1[0], b1[1]])\n",
    "    p2 = np.array([b2[0], b2[1]])\n",
    "    dist = np.linalg.norm(p1 - p2)\n",
    "    \n",
    "    return dist < threshold"
   ]
  },
  {
   "cell_type": "markdown",
   "metadata": {},
   "source": [
    "Removal of Extra Bounding Boxes"
   ]
  },
  {
   "cell_type": "code",
   "execution_count": 14,
   "metadata": {},
   "outputs": [],
   "source": [
    "# compare bounding boxes\n",
    "def compare_boxes(data, cl):\n",
    "    remove_idx = []\n",
    "    for i in range(len(data)):\n",
    "        # if data was already removed, then skip\n",
    "        if i in remove_idx:\n",
    "            continue\n",
    "        \n",
    "        # obtain first bounding box\n",
    "        b1 = data[i]\n",
    "\n",
    "        for j in range(len(data)):\n",
    "            # if data was already removed, then skip\n",
    "            if j in remove_idx:\n",
    "                continue\n",
    "\n",
    "            # obtain second bounding box\n",
    "            b2 = data[j]\n",
    "\n",
    "            if np.array_equiv(b1, b2):\n",
    "                continue\n",
    "            \n",
    "            # if 2 bounding boxes coincide, then take the value with the higher confidence level\n",
    "            if coincides(b1, b2):\n",
    "                remove_idx.append(j if cl[i] > cl[j] else i)\n",
    "    \n",
    "    return remove_idx\n",
    "\n",
    "# remove any duplicate bounding boxes\n",
    "def remove_dup_BB(df):\n",
    "    max_index = df.iloc[-1]['i'] + 1\n",
    "\n",
    "    offset = 0\n",
    "    remove_idx = []\n",
    "    for index in range(max_index):\n",
    "        # remove the label, confidence level, image index, and image path\n",
    "        view = df[df['i'] == index].iloc[:, :-4]\n",
    "        cl = df[df['i'] == index]['cl']\n",
    "        cl = cl.reset_index(drop=True)\n",
    "\n",
    "        # remove duplicate bounding boxes\n",
    "        dup_idx = compare_boxes(view.to_numpy(), cl)\n",
    "        dup_idx = [i + offset for i in dup_idx]\n",
    "\n",
    "        remove_idx.extend(dup_idx)\n",
    "\n",
    "        # increment offset\n",
    "        offset = offset + len(view)\n",
    "\n",
    "    # filter out wrong bounding boxes\n",
    "    if remove_idx:\n",
    "        filtered_df = df.drop(remove_idx)\n",
    "    else:\n",
    "        return df\n",
    "\n",
    "    return filtered_df"
   ]
  },
  {
   "cell_type": "markdown",
   "metadata": {},
   "source": [
    "Output dataframe to csv"
   ]
  },
  {
   "cell_type": "code",
   "execution_count": 18,
   "metadata": {},
   "outputs": [],
   "source": [
    "os.makedirs(os.path.join(\"results\",\"filtered\"), exist_ok=True)\n",
    "\n",
    "filtered_orig_e12_df = remove_dup_BB(orig_df)\n",
    "filtered_orig_e12_df.to_csv(os.path.join(\"results\", \"filtered\", \"filtered_orig.csv\"), index=False, header=True)\n",
    "\n",
    "filtered_orig_e20_df = remove_dup_BB(orig_df_e20)\n",
    "filtered_orig_e20_df.to_csv(os.path.join(\"results\", \"filtered\", \"filtered_orig_e20.csv\"), index=False, header=True)\n",
    "\n",
    "filtered_mask_e12_df = remove_dup_BB(masked_df)\n",
    "filtered_mask_e12_df.to_csv(os.path.join(\"results\", \"filtered\", \"filtered_masked.csv\"), index=False, header=True)\n",
    "\n",
    "filtered_mask_e20_df = remove_dup_BB(masked_df_e20)\n",
    "filtered_mask_e20_df.to_csv(os.path.join(\"results\", \"filtered\", \"filtered_masked_e20.csv\"), index=False, header=True)"
   ]
  },
  {
   "cell_type": "markdown",
   "metadata": {},
   "source": [
    "show removed results"
   ]
  },
  {
   "cell_type": "code",
   "execution_count": 20,
   "metadata": {},
   "outputs": [
    {
     "name": "stdout",
     "output_type": "stream",
     "text": [
      "epoch=12\n"
     ]
    },
    {
     "data": {
      "text/html": [
       "<div>\n",
       "<style scoped>\n",
       "    .dataframe tbody tr th:only-of-type {\n",
       "        vertical-align: middle;\n",
       "    }\n",
       "\n",
       "    .dataframe tbody tr th {\n",
       "        vertical-align: top;\n",
       "    }\n",
       "\n",
       "    .dataframe thead th {\n",
       "        text-align: right;\n",
       "    }\n",
       "</style>\n",
       "<table border=\"1\" class=\"dataframe\">\n",
       "  <thead>\n",
       "    <tr style=\"text-align: right;\">\n",
       "      <th></th>\n",
       "      <th>x</th>\n",
       "      <th>y</th>\n",
       "      <th>x2</th>\n",
       "      <th>y2</th>\n",
       "      <th>cl</th>\n",
       "      <th>label</th>\n",
       "      <th>i</th>\n",
       "      <th>file</th>\n",
       "    </tr>\n",
       "  </thead>\n",
       "  <tbody>\n",
       "    <tr>\n",
       "      <th>7</th>\n",
       "      <td>182.867325</td>\n",
       "      <td>329.296265</td>\n",
       "      <td>228.352982</td>\n",
       "      <td>375.429443</td>\n",
       "      <td>0.311292</td>\n",
       "      <td>1</td>\n",
       "      <td>0</td>\n",
       "      <td>C:\\Users\\leeal\\.cache\\kagglehub\\datasets\\korya...</td>\n",
       "    </tr>\n",
       "    <tr>\n",
       "      <th>15</th>\n",
       "      <td>293.601593</td>\n",
       "      <td>39.504642</td>\n",
       "      <td>336.261536</td>\n",
       "      <td>86.065170</td>\n",
       "      <td>0.467241</td>\n",
       "      <td>1</td>\n",
       "      <td>1</td>\n",
       "      <td>C:\\Users\\leeal\\.cache\\kagglehub\\datasets\\korya...</td>\n",
       "    </tr>\n",
       "    <tr>\n",
       "      <th>23</th>\n",
       "      <td>311.200775</td>\n",
       "      <td>150.989883</td>\n",
       "      <td>355.813049</td>\n",
       "      <td>196.780502</td>\n",
       "      <td>0.541180</td>\n",
       "      <td>2</td>\n",
       "      <td>2</td>\n",
       "      <td>C:\\Users\\leeal\\.cache\\kagglehub\\datasets\\korya...</td>\n",
       "    </tr>\n",
       "    <tr>\n",
       "      <th>31</th>\n",
       "      <td>158.633911</td>\n",
       "      <td>232.173187</td>\n",
       "      <td>206.911957</td>\n",
       "      <td>280.689362</td>\n",
       "      <td>0.630582</td>\n",
       "      <td>3</td>\n",
       "      <td>3</td>\n",
       "      <td>C:\\Users\\leeal\\.cache\\kagglehub\\datasets\\korya...</td>\n",
       "    </tr>\n",
       "    <tr>\n",
       "      <th>32</th>\n",
       "      <td>262.049561</td>\n",
       "      <td>261.384918</td>\n",
       "      <td>310.745941</td>\n",
       "      <td>309.950409</td>\n",
       "      <td>0.433672</td>\n",
       "      <td>5</td>\n",
       "      <td>3</td>\n",
       "      <td>C:\\Users\\leeal\\.cache\\kagglehub\\datasets\\korya...</td>\n",
       "    </tr>\n",
       "    <tr>\n",
       "      <th>40</th>\n",
       "      <td>331.211151</td>\n",
       "      <td>306.272095</td>\n",
       "      <td>376.156158</td>\n",
       "      <td>351.167664</td>\n",
       "      <td>0.429408</td>\n",
       "      <td>1</td>\n",
       "      <td>4</td>\n",
       "      <td>C:\\Users\\leeal\\.cache\\kagglehub\\datasets\\korya...</td>\n",
       "    </tr>\n",
       "    <tr>\n",
       "      <th>48</th>\n",
       "      <td>223.796005</td>\n",
       "      <td>167.357056</td>\n",
       "      <td>268.802094</td>\n",
       "      <td>213.346039</td>\n",
       "      <td>0.430681</td>\n",
       "      <td>1</td>\n",
       "      <td>5</td>\n",
       "      <td>C:\\Users\\leeal\\.cache\\kagglehub\\datasets\\korya...</td>\n",
       "    </tr>\n",
       "    <tr>\n",
       "      <th>80</th>\n",
       "      <td>134.570480</td>\n",
       "      <td>279.650391</td>\n",
       "      <td>181.592773</td>\n",
       "      <td>327.140381</td>\n",
       "      <td>0.290704</td>\n",
       "      <td>6</td>\n",
       "      <td>10</td>\n",
       "      <td>C:\\Users\\leeal\\.cache\\kagglehub\\datasets\\korya...</td>\n",
       "    </tr>\n",
       "    <tr>\n",
       "      <th>86</th>\n",
       "      <td>281.926941</td>\n",
       "      <td>234.138519</td>\n",
       "      <td>329.306793</td>\n",
       "      <td>282.796570</td>\n",
       "      <td>0.422397</td>\n",
       "      <td>1</td>\n",
       "      <td>11</td>\n",
       "      <td>C:\\Users\\leeal\\.cache\\kagglehub\\datasets\\korya...</td>\n",
       "    </tr>\n",
       "    <tr>\n",
       "      <th>95</th>\n",
       "      <td>116.315254</td>\n",
       "      <td>98.657219</td>\n",
       "      <td>158.854095</td>\n",
       "      <td>141.012863</td>\n",
       "      <td>0.356131</td>\n",
       "      <td>2</td>\n",
       "      <td>12</td>\n",
       "      <td>C:\\Users\\leeal\\.cache\\kagglehub\\datasets\\korya...</td>\n",
       "    </tr>\n",
       "    <tr>\n",
       "      <th>110</th>\n",
       "      <td>95.442726</td>\n",
       "      <td>272.152618</td>\n",
       "      <td>144.273331</td>\n",
       "      <td>322.119629</td>\n",
       "      <td>0.350341</td>\n",
       "      <td>3</td>\n",
       "      <td>14</td>\n",
       "      <td>C:\\Users\\leeal\\.cache\\kagglehub\\datasets\\korya...</td>\n",
       "    </tr>\n",
       "  </tbody>\n",
       "</table>\n",
       "</div>"
      ],
      "text/plain": [
       "              x           y          x2          y2        cl  label   i  \\\n",
       "7    182.867325  329.296265  228.352982  375.429443  0.311292      1   0   \n",
       "15   293.601593   39.504642  336.261536   86.065170  0.467241      1   1   \n",
       "23   311.200775  150.989883  355.813049  196.780502  0.541180      2   2   \n",
       "31   158.633911  232.173187  206.911957  280.689362  0.630582      3   3   \n",
       "32   262.049561  261.384918  310.745941  309.950409  0.433672      5   3   \n",
       "40   331.211151  306.272095  376.156158  351.167664  0.429408      1   4   \n",
       "48   223.796005  167.357056  268.802094  213.346039  0.430681      1   5   \n",
       "80   134.570480  279.650391  181.592773  327.140381  0.290704      6  10   \n",
       "86   281.926941  234.138519  329.306793  282.796570  0.422397      1  11   \n",
       "95   116.315254   98.657219  158.854095  141.012863  0.356131      2  12   \n",
       "110   95.442726  272.152618  144.273331  322.119629  0.350341      3  14   \n",
       "\n",
       "                                                  file  \n",
       "7    C:\\Users\\leeal\\.cache\\kagglehub\\datasets\\korya...  \n",
       "15   C:\\Users\\leeal\\.cache\\kagglehub\\datasets\\korya...  \n",
       "23   C:\\Users\\leeal\\.cache\\kagglehub\\datasets\\korya...  \n",
       "31   C:\\Users\\leeal\\.cache\\kagglehub\\datasets\\korya...  \n",
       "32   C:\\Users\\leeal\\.cache\\kagglehub\\datasets\\korya...  \n",
       "40   C:\\Users\\leeal\\.cache\\kagglehub\\datasets\\korya...  \n",
       "48   C:\\Users\\leeal\\.cache\\kagglehub\\datasets\\korya...  \n",
       "80   C:\\Users\\leeal\\.cache\\kagglehub\\datasets\\korya...  \n",
       "86   C:\\Users\\leeal\\.cache\\kagglehub\\datasets\\korya...  \n",
       "95   C:\\Users\\leeal\\.cache\\kagglehub\\datasets\\korya...  \n",
       "110  C:\\Users\\leeal\\.cache\\kagglehub\\datasets\\korya...  "
      ]
     },
     "metadata": {},
     "output_type": "display_data"
    },
    {
     "data": {
      "text/html": [
       "<div>\n",
       "<style scoped>\n",
       "    .dataframe tbody tr th:only-of-type {\n",
       "        vertical-align: middle;\n",
       "    }\n",
       "\n",
       "    .dataframe tbody tr th {\n",
       "        vertical-align: top;\n",
       "    }\n",
       "\n",
       "    .dataframe thead th {\n",
       "        text-align: right;\n",
       "    }\n",
       "</style>\n",
       "<table border=\"1\" class=\"dataframe\">\n",
       "  <thead>\n",
       "    <tr style=\"text-align: right;\">\n",
       "      <th></th>\n",
       "      <th>x</th>\n",
       "      <th>y</th>\n",
       "      <th>x2</th>\n",
       "      <th>y2</th>\n",
       "      <th>cl</th>\n",
       "      <th>label</th>\n",
       "      <th>i</th>\n",
       "      <th>file</th>\n",
       "    </tr>\n",
       "  </thead>\n",
       "  <tbody>\n",
       "    <tr>\n",
       "      <th>7</th>\n",
       "      <td>131.477814</td>\n",
       "      <td>37.849247</td>\n",
       "      <td>175.408066</td>\n",
       "      <td>84.078323</td>\n",
       "      <td>0.446201</td>\n",
       "      <td>1</td>\n",
       "      <td>0</td>\n",
       "      <td>test_images\\masked_images\\masked_image0.jpg</td>\n",
       "    </tr>\n",
       "    <tr>\n",
       "      <th>14</th>\n",
       "      <td>292.732330</td>\n",
       "      <td>39.797398</td>\n",
       "      <td>335.736664</td>\n",
       "      <td>82.992844</td>\n",
       "      <td>0.312100</td>\n",
       "      <td>2</td>\n",
       "      <td>1</td>\n",
       "      <td>test_images\\masked_images\\masked_image1.jpg</td>\n",
       "    </tr>\n",
       "    <tr>\n",
       "      <th>16</th>\n",
       "      <td>34.391430</td>\n",
       "      <td>131.085190</td>\n",
       "      <td>79.990425</td>\n",
       "      <td>179.181534</td>\n",
       "      <td>0.230222</td>\n",
       "      <td>2</td>\n",
       "      <td>1</td>\n",
       "      <td>test_images\\masked_images\\masked_image1.jpg</td>\n",
       "    </tr>\n",
       "    <tr>\n",
       "      <th>21</th>\n",
       "      <td>35.779701</td>\n",
       "      <td>260.357086</td>\n",
       "      <td>83.413696</td>\n",
       "      <td>308.149658</td>\n",
       "      <td>0.604290</td>\n",
       "      <td>3</td>\n",
       "      <td>2</td>\n",
       "      <td>test_images\\masked_images\\masked_image10.jpg</td>\n",
       "    </tr>\n",
       "    <tr>\n",
       "      <th>25</th>\n",
       "      <td>81.431740</td>\n",
       "      <td>338.734558</td>\n",
       "      <td>128.795944</td>\n",
       "      <td>387.642273</td>\n",
       "      <td>0.426063</td>\n",
       "      <td>2</td>\n",
       "      <td>2</td>\n",
       "      <td>test_images\\masked_images\\masked_image10.jpg</td>\n",
       "    </tr>\n",
       "    <tr>\n",
       "      <th>26</th>\n",
       "      <td>230.540085</td>\n",
       "      <td>169.745926</td>\n",
       "      <td>272.388245</td>\n",
       "      <td>213.886017</td>\n",
       "      <td>0.295376</td>\n",
       "      <td>5</td>\n",
       "      <td>2</td>\n",
       "      <td>test_images\\masked_images\\masked_image10.jpg</td>\n",
       "    </tr>\n",
       "    <tr>\n",
       "      <th>27</th>\n",
       "      <td>327.786255</td>\n",
       "      <td>62.622322</td>\n",
       "      <td>374.045807</td>\n",
       "      <td>111.004555</td>\n",
       "      <td>0.200963</td>\n",
       "      <td>2</td>\n",
       "      <td>2</td>\n",
       "      <td>test_images\\masked_images\\masked_image10.jpg</td>\n",
       "    </tr>\n",
       "    <tr>\n",
       "      <th>41</th>\n",
       "      <td>34.897408</td>\n",
       "      <td>207.581116</td>\n",
       "      <td>81.819344</td>\n",
       "      <td>253.730988</td>\n",
       "      <td>0.536221</td>\n",
       "      <td>3</td>\n",
       "      <td>4</td>\n",
       "      <td>test_images\\masked_images\\masked_image1000.jpg</td>\n",
       "    </tr>\n",
       "    <tr>\n",
       "      <th>42</th>\n",
       "      <td>262.411285</td>\n",
       "      <td>247.099518</td>\n",
       "      <td>306.017456</td>\n",
       "      <td>290.837616</td>\n",
       "      <td>0.398764</td>\n",
       "      <td>1</td>\n",
       "      <td>4</td>\n",
       "      <td>test_images\\masked_images\\masked_image1000.jpg</td>\n",
       "    </tr>\n",
       "    <tr>\n",
       "      <th>44</th>\n",
       "      <td>107.015366</td>\n",
       "      <td>276.960175</td>\n",
       "      <td>154.263977</td>\n",
       "      <td>323.742432</td>\n",
       "      <td>0.256769</td>\n",
       "      <td>2</td>\n",
       "      <td>4</td>\n",
       "      <td>test_images\\masked_images\\masked_image1000.jpg</td>\n",
       "    </tr>\n",
       "    <tr>\n",
       "      <th>52</th>\n",
       "      <td>71.949623</td>\n",
       "      <td>62.075199</td>\n",
       "      <td>115.230080</td>\n",
       "      <td>104.095985</td>\n",
       "      <td>0.436119</td>\n",
       "      <td>2</td>\n",
       "      <td>5</td>\n",
       "      <td>test_images\\masked_images\\masked_image10000.jpg</td>\n",
       "    </tr>\n",
       "    <tr>\n",
       "      <th>53</th>\n",
       "      <td>30.486456</td>\n",
       "      <td>81.999596</td>\n",
       "      <td>77.120995</td>\n",
       "      <td>127.080994</td>\n",
       "      <td>0.400028</td>\n",
       "      <td>1</td>\n",
       "      <td>5</td>\n",
       "      <td>test_images\\masked_images\\masked_image10000.jpg</td>\n",
       "    </tr>\n",
       "    <tr>\n",
       "      <th>59</th>\n",
       "      <td>71.219330</td>\n",
       "      <td>227.822739</td>\n",
       "      <td>120.915077</td>\n",
       "      <td>276.825226</td>\n",
       "      <td>0.598705</td>\n",
       "      <td>4</td>\n",
       "      <td>6</td>\n",
       "      <td>test_images\\masked_images\\masked_image10001.jpg</td>\n",
       "    </tr>\n",
       "    <tr>\n",
       "      <th>61</th>\n",
       "      <td>181.535950</td>\n",
       "      <td>32.890892</td>\n",
       "      <td>228.663589</td>\n",
       "      <td>84.418915</td>\n",
       "      <td>0.258124</td>\n",
       "      <td>1</td>\n",
       "      <td>6</td>\n",
       "      <td>test_images\\masked_images\\masked_image10001.jpg</td>\n",
       "    </tr>\n",
       "    <tr>\n",
       "      <th>69</th>\n",
       "      <td>172.553970</td>\n",
       "      <td>105.492981</td>\n",
       "      <td>217.087906</td>\n",
       "      <td>148.518494</td>\n",
       "      <td>0.416180</td>\n",
       "      <td>6</td>\n",
       "      <td>7</td>\n",
       "      <td>test_images\\masked_images\\masked_image10002.jpg</td>\n",
       "    </tr>\n",
       "    <tr>\n",
       "      <th>75</th>\n",
       "      <td>38.689400</td>\n",
       "      <td>336.449432</td>\n",
       "      <td>83.651131</td>\n",
       "      <td>380.368408</td>\n",
       "      <td>0.282804</td>\n",
       "      <td>2</td>\n",
       "      <td>8</td>\n",
       "      <td>test_images\\masked_images\\masked_image10003.jpg</td>\n",
       "    </tr>\n",
       "    <tr>\n",
       "      <th>83</th>\n",
       "      <td>57.675385</td>\n",
       "      <td>164.422195</td>\n",
       "      <td>104.620651</td>\n",
       "      <td>212.122757</td>\n",
       "      <td>0.463125</td>\n",
       "      <td>3</td>\n",
       "      <td>9</td>\n",
       "      <td>test_images\\masked_images\\masked_image10004.jpg</td>\n",
       "    </tr>\n",
       "    <tr>\n",
       "      <th>84</th>\n",
       "      <td>325.078827</td>\n",
       "      <td>264.540131</td>\n",
       "      <td>370.094818</td>\n",
       "      <td>309.623169</td>\n",
       "      <td>0.443370</td>\n",
       "      <td>1</td>\n",
       "      <td>9</td>\n",
       "      <td>test_images\\masked_images\\masked_image10004.jpg</td>\n",
       "    </tr>\n",
       "    <tr>\n",
       "      <th>85</th>\n",
       "      <td>42.811523</td>\n",
       "      <td>280.445648</td>\n",
       "      <td>90.209305</td>\n",
       "      <td>328.161774</td>\n",
       "      <td>0.331236</td>\n",
       "      <td>1</td>\n",
       "      <td>9</td>\n",
       "      <td>test_images\\masked_images\\masked_image10004.jpg</td>\n",
       "    </tr>\n",
       "    <tr>\n",
       "      <th>104</th>\n",
       "      <td>139.397278</td>\n",
       "      <td>35.012390</td>\n",
       "      <td>185.662109</td>\n",
       "      <td>82.303192</td>\n",
       "      <td>0.381879</td>\n",
       "      <td>1</td>\n",
       "      <td>12</td>\n",
       "      <td>test_images\\masked_images\\masked_image10007.jpg</td>\n",
       "    </tr>\n",
       "    <tr>\n",
       "      <th>113</th>\n",
       "      <td>97.775185</td>\n",
       "      <td>283.949341</td>\n",
       "      <td>143.657608</td>\n",
       "      <td>330.668365</td>\n",
       "      <td>0.327958</td>\n",
       "      <td>1</td>\n",
       "      <td>13</td>\n",
       "      <td>test_images\\masked_images\\masked_image10008.jpg</td>\n",
       "    </tr>\n",
       "    <tr>\n",
       "      <th>120</th>\n",
       "      <td>95.752724</td>\n",
       "      <td>273.140381</td>\n",
       "      <td>143.553467</td>\n",
       "      <td>321.612366</td>\n",
       "      <td>0.448220</td>\n",
       "      <td>3</td>\n",
       "      <td>14</td>\n",
       "      <td>test_images\\masked_images\\masked_image10009.jpg</td>\n",
       "    </tr>\n",
       "    <tr>\n",
       "      <th>129</th>\n",
       "      <td>337.498596</td>\n",
       "      <td>45.496979</td>\n",
       "      <td>380.523926</td>\n",
       "      <td>87.925964</td>\n",
       "      <td>0.381728</td>\n",
       "      <td>4</td>\n",
       "      <td>15</td>\n",
       "      <td>test_images\\masked_images\\masked_image1001.jpg</td>\n",
       "    </tr>\n",
       "    <tr>\n",
       "      <th>142</th>\n",
       "      <td>36.661884</td>\n",
       "      <td>97.250946</td>\n",
       "      <td>83.105766</td>\n",
       "      <td>143.843704</td>\n",
       "      <td>0.403384</td>\n",
       "      <td>2</td>\n",
       "      <td>17</td>\n",
       "      <td>test_images\\masked_images\\masked_image10011.jpg</td>\n",
       "    </tr>\n",
       "    <tr>\n",
       "      <th>143</th>\n",
       "      <td>335.062775</td>\n",
       "      <td>98.168953</td>\n",
       "      <td>377.138428</td>\n",
       "      <td>141.097534</td>\n",
       "      <td>0.376679</td>\n",
       "      <td>3</td>\n",
       "      <td>17</td>\n",
       "      <td>test_images\\masked_images\\masked_image10011.jpg</td>\n",
       "    </tr>\n",
       "  </tbody>\n",
       "</table>\n",
       "</div>"
      ],
      "text/plain": [
       "              x           y          x2          y2        cl  label   i  \\\n",
       "7    131.477814   37.849247  175.408066   84.078323  0.446201      1   0   \n",
       "14   292.732330   39.797398  335.736664   82.992844  0.312100      2   1   \n",
       "16    34.391430  131.085190   79.990425  179.181534  0.230222      2   1   \n",
       "21    35.779701  260.357086   83.413696  308.149658  0.604290      3   2   \n",
       "25    81.431740  338.734558  128.795944  387.642273  0.426063      2   2   \n",
       "26   230.540085  169.745926  272.388245  213.886017  0.295376      5   2   \n",
       "27   327.786255   62.622322  374.045807  111.004555  0.200963      2   2   \n",
       "41    34.897408  207.581116   81.819344  253.730988  0.536221      3   4   \n",
       "42   262.411285  247.099518  306.017456  290.837616  0.398764      1   4   \n",
       "44   107.015366  276.960175  154.263977  323.742432  0.256769      2   4   \n",
       "52    71.949623   62.075199  115.230080  104.095985  0.436119      2   5   \n",
       "53    30.486456   81.999596   77.120995  127.080994  0.400028      1   5   \n",
       "59    71.219330  227.822739  120.915077  276.825226  0.598705      4   6   \n",
       "61   181.535950   32.890892  228.663589   84.418915  0.258124      1   6   \n",
       "69   172.553970  105.492981  217.087906  148.518494  0.416180      6   7   \n",
       "75    38.689400  336.449432   83.651131  380.368408  0.282804      2   8   \n",
       "83    57.675385  164.422195  104.620651  212.122757  0.463125      3   9   \n",
       "84   325.078827  264.540131  370.094818  309.623169  0.443370      1   9   \n",
       "85    42.811523  280.445648   90.209305  328.161774  0.331236      1   9   \n",
       "104  139.397278   35.012390  185.662109   82.303192  0.381879      1  12   \n",
       "113   97.775185  283.949341  143.657608  330.668365  0.327958      1  13   \n",
       "120   95.752724  273.140381  143.553467  321.612366  0.448220      3  14   \n",
       "129  337.498596   45.496979  380.523926   87.925964  0.381728      4  15   \n",
       "142   36.661884   97.250946   83.105766  143.843704  0.403384      2  17   \n",
       "143  335.062775   98.168953  377.138428  141.097534  0.376679      3  17   \n",
       "\n",
       "                                                file  \n",
       "7        test_images\\masked_images\\masked_image0.jpg  \n",
       "14       test_images\\masked_images\\masked_image1.jpg  \n",
       "16       test_images\\masked_images\\masked_image1.jpg  \n",
       "21      test_images\\masked_images\\masked_image10.jpg  \n",
       "25      test_images\\masked_images\\masked_image10.jpg  \n",
       "26      test_images\\masked_images\\masked_image10.jpg  \n",
       "27      test_images\\masked_images\\masked_image10.jpg  \n",
       "41    test_images\\masked_images\\masked_image1000.jpg  \n",
       "42    test_images\\masked_images\\masked_image1000.jpg  \n",
       "44    test_images\\masked_images\\masked_image1000.jpg  \n",
       "52   test_images\\masked_images\\masked_image10000.jpg  \n",
       "53   test_images\\masked_images\\masked_image10000.jpg  \n",
       "59   test_images\\masked_images\\masked_image10001.jpg  \n",
       "61   test_images\\masked_images\\masked_image10001.jpg  \n",
       "69   test_images\\masked_images\\masked_image10002.jpg  \n",
       "75   test_images\\masked_images\\masked_image10003.jpg  \n",
       "83   test_images\\masked_images\\masked_image10004.jpg  \n",
       "84   test_images\\masked_images\\masked_image10004.jpg  \n",
       "85   test_images\\masked_images\\masked_image10004.jpg  \n",
       "104  test_images\\masked_images\\masked_image10007.jpg  \n",
       "113  test_images\\masked_images\\masked_image10008.jpg  \n",
       "120  test_images\\masked_images\\masked_image10009.jpg  \n",
       "129   test_images\\masked_images\\masked_image1001.jpg  \n",
       "142  test_images\\masked_images\\masked_image10011.jpg  \n",
       "143  test_images\\masked_images\\masked_image10011.jpg  "
      ]
     },
     "metadata": {},
     "output_type": "display_data"
    },
    {
     "name": "stdout",
     "output_type": "stream",
     "text": [
      "epoch=20\n"
     ]
    },
    {
     "data": {
      "text/html": [
       "<div>\n",
       "<style scoped>\n",
       "    .dataframe tbody tr th:only-of-type {\n",
       "        vertical-align: middle;\n",
       "    }\n",
       "\n",
       "    .dataframe tbody tr th {\n",
       "        vertical-align: top;\n",
       "    }\n",
       "\n",
       "    .dataframe thead th {\n",
       "        text-align: right;\n",
       "    }\n",
       "</style>\n",
       "<table border=\"1\" class=\"dataframe\">\n",
       "  <thead>\n",
       "    <tr style=\"text-align: right;\">\n",
       "      <th></th>\n",
       "      <th>x</th>\n",
       "      <th>y</th>\n",
       "      <th>x2</th>\n",
       "      <th>y2</th>\n",
       "      <th>cl</th>\n",
       "      <th>label</th>\n",
       "      <th>i</th>\n",
       "      <th>file</th>\n",
       "    </tr>\n",
       "  </thead>\n",
       "  <tbody>\n",
       "    <tr>\n",
       "      <th>28</th>\n",
       "      <td>66.331047</td>\n",
       "      <td>308.708008</td>\n",
       "      <td>107.991302</td>\n",
       "      <td>349.108154</td>\n",
       "      <td>0.209908</td>\n",
       "      <td>4</td>\n",
       "      <td>3</td>\n",
       "      <td>C:\\Users\\leeal\\.cache\\kagglehub\\datasets\\korya...</td>\n",
       "    </tr>\n",
       "    <tr>\n",
       "      <th>48</th>\n",
       "      <td>71.578064</td>\n",
       "      <td>228.959686</td>\n",
       "      <td>118.294479</td>\n",
       "      <td>278.690277</td>\n",
       "      <td>0.315783</td>\n",
       "      <td>4</td>\n",
       "      <td>6</td>\n",
       "      <td>C:\\Users\\leeal\\.cache\\kagglehub\\datasets\\korya...</td>\n",
       "    </tr>\n",
       "    <tr>\n",
       "      <th>56</th>\n",
       "      <td>105.837059</td>\n",
       "      <td>82.235558</td>\n",
       "      <td>149.236832</td>\n",
       "      <td>126.072830</td>\n",
       "      <td>0.267105</td>\n",
       "      <td>3</td>\n",
       "      <td>7</td>\n",
       "      <td>C:\\Users\\leeal\\.cache\\kagglehub\\datasets\\korya...</td>\n",
       "    </tr>\n",
       "    <tr>\n",
       "      <th>62</th>\n",
       "      <td>120.015663</td>\n",
       "      <td>137.680862</td>\n",
       "      <td>163.633896</td>\n",
       "      <td>180.906113</td>\n",
       "      <td>0.225491</td>\n",
       "      <td>5</td>\n",
       "      <td>8</td>\n",
       "      <td>C:\\Users\\leeal\\.cache\\kagglehub\\datasets\\korya...</td>\n",
       "    </tr>\n",
       "    <tr>\n",
       "      <th>70</th>\n",
       "      <td>114.624474</td>\n",
       "      <td>71.281860</td>\n",
       "      <td>157.300751</td>\n",
       "      <td>114.715424</td>\n",
       "      <td>0.323133</td>\n",
       "      <td>6</td>\n",
       "      <td>9</td>\n",
       "      <td>C:\\Users\\leeal\\.cache\\kagglehub\\datasets\\korya...</td>\n",
       "    </tr>\n",
       "    <tr>\n",
       "      <th>127</th>\n",
       "      <td>63.010902</td>\n",
       "      <td>344.213165</td>\n",
       "      <td>106.222908</td>\n",
       "      <td>388.497528</td>\n",
       "      <td>0.311366</td>\n",
       "      <td>6</td>\n",
       "      <td>18</td>\n",
       "      <td>C:\\Users\\leeal\\.cache\\kagglehub\\datasets\\korya...</td>\n",
       "    </tr>\n",
       "  </tbody>\n",
       "</table>\n",
       "</div>"
      ],
      "text/plain": [
       "              x           y          x2          y2        cl  label   i  \\\n",
       "28    66.331047  308.708008  107.991302  349.108154  0.209908      4   3   \n",
       "48    71.578064  228.959686  118.294479  278.690277  0.315783      4   6   \n",
       "56   105.837059   82.235558  149.236832  126.072830  0.267105      3   7   \n",
       "62   120.015663  137.680862  163.633896  180.906113  0.225491      5   8   \n",
       "70   114.624474   71.281860  157.300751  114.715424  0.323133      6   9   \n",
       "127   63.010902  344.213165  106.222908  388.497528  0.311366      6  18   \n",
       "\n",
       "                                                  file  \n",
       "28   C:\\Users\\leeal\\.cache\\kagglehub\\datasets\\korya...  \n",
       "48   C:\\Users\\leeal\\.cache\\kagglehub\\datasets\\korya...  \n",
       "56   C:\\Users\\leeal\\.cache\\kagglehub\\datasets\\korya...  \n",
       "62   C:\\Users\\leeal\\.cache\\kagglehub\\datasets\\korya...  \n",
       "70   C:\\Users\\leeal\\.cache\\kagglehub\\datasets\\korya...  \n",
       "127  C:\\Users\\leeal\\.cache\\kagglehub\\datasets\\korya...  "
      ]
     },
     "metadata": {},
     "output_type": "display_data"
    },
    {
     "data": {
      "text/html": [
       "<div>\n",
       "<style scoped>\n",
       "    .dataframe tbody tr th:only-of-type {\n",
       "        vertical-align: middle;\n",
       "    }\n",
       "\n",
       "    .dataframe tbody tr th {\n",
       "        vertical-align: top;\n",
       "    }\n",
       "\n",
       "    .dataframe thead th {\n",
       "        text-align: right;\n",
       "    }\n",
       "</style>\n",
       "<table border=\"1\" class=\"dataframe\">\n",
       "  <thead>\n",
       "    <tr style=\"text-align: right;\">\n",
       "      <th></th>\n",
       "      <th>x</th>\n",
       "      <th>y</th>\n",
       "      <th>x2</th>\n",
       "      <th>y2</th>\n",
       "      <th>cl</th>\n",
       "      <th>label</th>\n",
       "      <th>i</th>\n",
       "      <th>file</th>\n",
       "    </tr>\n",
       "  </thead>\n",
       "  <tbody>\n",
       "    <tr>\n",
       "      <th>14</th>\n",
       "      <td>90.917946</td>\n",
       "      <td>302.790588</td>\n",
       "      <td>134.508728</td>\n",
       "      <td>347.299133</td>\n",
       "      <td>0.352792</td>\n",
       "      <td>5</td>\n",
       "      <td>1</td>\n",
       "      <td>test_images\\masked_images\\masked_image1.jpg</td>\n",
       "    </tr>\n",
       "    <tr>\n",
       "      <th>29</th>\n",
       "      <td>145.262909</td>\n",
       "      <td>104.094505</td>\n",
       "      <td>188.402374</td>\n",
       "      <td>146.043137</td>\n",
       "      <td>0.218571</td>\n",
       "      <td>3</td>\n",
       "      <td>3</td>\n",
       "      <td>test_images\\masked_images\\masked_image100.jpg</td>\n",
       "    </tr>\n",
       "    <tr>\n",
       "      <th>41</th>\n",
       "      <td>122.302750</td>\n",
       "      <td>323.775818</td>\n",
       "      <td>163.647873</td>\n",
       "      <td>364.636780</td>\n",
       "      <td>0.254251</td>\n",
       "      <td>4</td>\n",
       "      <td>5</td>\n",
       "      <td>test_images\\masked_images\\masked_image10000.jpg</td>\n",
       "    </tr>\n",
       "    <tr>\n",
       "      <th>55</th>\n",
       "      <td>37.696487</td>\n",
       "      <td>103.586548</td>\n",
       "      <td>80.970200</td>\n",
       "      <td>149.711060</td>\n",
       "      <td>0.231765</td>\n",
       "      <td>1</td>\n",
       "      <td>7</td>\n",
       "      <td>test_images\\masked_images\\masked_image10002.jpg</td>\n",
       "    </tr>\n",
       "    <tr>\n",
       "      <th>61</th>\n",
       "      <td>173.982605</td>\n",
       "      <td>340.576569</td>\n",
       "      <td>218.314774</td>\n",
       "      <td>385.130463</td>\n",
       "      <td>0.277653</td>\n",
       "      <td>5</td>\n",
       "      <td>8</td>\n",
       "      <td>test_images\\masked_images\\masked_image10003.jpg</td>\n",
       "    </tr>\n",
       "    <tr>\n",
       "      <th>74</th>\n",
       "      <td>149.439758</td>\n",
       "      <td>210.807709</td>\n",
       "      <td>193.806946</td>\n",
       "      <td>256.001862</td>\n",
       "      <td>0.250752</td>\n",
       "      <td>6</td>\n",
       "      <td>10</td>\n",
       "      <td>test_images\\masked_images\\masked_image10005.jpg</td>\n",
       "    </tr>\n",
       "    <tr>\n",
       "      <th>80</th>\n",
       "      <td>283.564667</td>\n",
       "      <td>234.566986</td>\n",
       "      <td>329.422821</td>\n",
       "      <td>281.954254</td>\n",
       "      <td>0.373971</td>\n",
       "      <td>3</td>\n",
       "      <td>11</td>\n",
       "      <td>test_images\\masked_images\\masked_image10006.jpg</td>\n",
       "    </tr>\n",
       "    <tr>\n",
       "      <th>82</th>\n",
       "      <td>69.583473</td>\n",
       "      <td>87.483215</td>\n",
       "      <td>115.116844</td>\n",
       "      <td>136.535919</td>\n",
       "      <td>0.200155</td>\n",
       "      <td>4</td>\n",
       "      <td>11</td>\n",
       "      <td>test_images\\masked_images\\masked_image10006.jpg</td>\n",
       "    </tr>\n",
       "    <tr>\n",
       "      <th>89</th>\n",
       "      <td>140.302048</td>\n",
       "      <td>35.884346</td>\n",
       "      <td>184.660324</td>\n",
       "      <td>81.388794</td>\n",
       "      <td>0.231151</td>\n",
       "      <td>3</td>\n",
       "      <td>12</td>\n",
       "      <td>test_images\\masked_images\\masked_image10007.jpg</td>\n",
       "    </tr>\n",
       "    <tr>\n",
       "      <th>107</th>\n",
       "      <td>336.786255</td>\n",
       "      <td>46.464424</td>\n",
       "      <td>379.375183</td>\n",
       "      <td>87.978699</td>\n",
       "      <td>0.321401</td>\n",
       "      <td>3</td>\n",
       "      <td>15</td>\n",
       "      <td>test_images\\masked_images\\masked_image1001.jpg</td>\n",
       "    </tr>\n",
       "    <tr>\n",
       "      <th>120</th>\n",
       "      <td>36.792889</td>\n",
       "      <td>97.693802</td>\n",
       "      <td>81.936920</td>\n",
       "      <td>143.480896</td>\n",
       "      <td>0.295035</td>\n",
       "      <td>1</td>\n",
       "      <td>17</td>\n",
       "      <td>test_images\\masked_images\\masked_image10011.jpg</td>\n",
       "    </tr>\n",
       "    <tr>\n",
       "      <th>127</th>\n",
       "      <td>46.973629</td>\n",
       "      <td>234.283051</td>\n",
       "      <td>93.583138</td>\n",
       "      <td>280.073578</td>\n",
       "      <td>0.259785</td>\n",
       "      <td>2</td>\n",
       "      <td>18</td>\n",
       "      <td>test_images\\masked_images\\masked_image10012.jpg</td>\n",
       "    </tr>\n",
       "    <tr>\n",
       "      <th>135</th>\n",
       "      <td>196.247559</td>\n",
       "      <td>257.064026</td>\n",
       "      <td>240.612152</td>\n",
       "      <td>301.383514</td>\n",
       "      <td>0.286692</td>\n",
       "      <td>3</td>\n",
       "      <td>19</td>\n",
       "      <td>test_images\\masked_images\\masked_image10013.jpg</td>\n",
       "    </tr>\n",
       "  </tbody>\n",
       "</table>\n",
       "</div>"
      ],
      "text/plain": [
       "              x           y          x2          y2        cl  label   i  \\\n",
       "14    90.917946  302.790588  134.508728  347.299133  0.352792      5   1   \n",
       "29   145.262909  104.094505  188.402374  146.043137  0.218571      3   3   \n",
       "41   122.302750  323.775818  163.647873  364.636780  0.254251      4   5   \n",
       "55    37.696487  103.586548   80.970200  149.711060  0.231765      1   7   \n",
       "61   173.982605  340.576569  218.314774  385.130463  0.277653      5   8   \n",
       "74   149.439758  210.807709  193.806946  256.001862  0.250752      6  10   \n",
       "80   283.564667  234.566986  329.422821  281.954254  0.373971      3  11   \n",
       "82    69.583473   87.483215  115.116844  136.535919  0.200155      4  11   \n",
       "89   140.302048   35.884346  184.660324   81.388794  0.231151      3  12   \n",
       "107  336.786255   46.464424  379.375183   87.978699  0.321401      3  15   \n",
       "120   36.792889   97.693802   81.936920  143.480896  0.295035      1  17   \n",
       "127   46.973629  234.283051   93.583138  280.073578  0.259785      2  18   \n",
       "135  196.247559  257.064026  240.612152  301.383514  0.286692      3  19   \n",
       "\n",
       "                                                file  \n",
       "14       test_images\\masked_images\\masked_image1.jpg  \n",
       "29     test_images\\masked_images\\masked_image100.jpg  \n",
       "41   test_images\\masked_images\\masked_image10000.jpg  \n",
       "55   test_images\\masked_images\\masked_image10002.jpg  \n",
       "61   test_images\\masked_images\\masked_image10003.jpg  \n",
       "74   test_images\\masked_images\\masked_image10005.jpg  \n",
       "80   test_images\\masked_images\\masked_image10006.jpg  \n",
       "82   test_images\\masked_images\\masked_image10006.jpg  \n",
       "89   test_images\\masked_images\\masked_image10007.jpg  \n",
       "107   test_images\\masked_images\\masked_image1001.jpg  \n",
       "120  test_images\\masked_images\\masked_image10011.jpg  \n",
       "127  test_images\\masked_images\\masked_image10012.jpg  \n",
       "135  test_images\\masked_images\\masked_image10013.jpg  "
      ]
     },
     "metadata": {},
     "output_type": "display_data"
    }
   ],
   "source": [
    "# display difference\n",
    "def show_diff(orig, filt):\n",
    "    display(pd.concat([orig, filt]).drop_duplicates(keep=False))\n",
    "\n",
    "print(\"epoch=12\")\n",
    "show_diff(orig_df, filtered_orig_e12_df)\n",
    "show_diff(masked_df, filtered_mask_e12_df)\n",
    "\n",
    "print(\"epoch=20\")\n",
    "show_diff(orig_df_e20, filtered_orig_e20_df)\n",
    "show_diff(masked_df_e20, filtered_mask_e20_df)"
   ]
  }
 ],
 "metadata": {
  "kernelspec": {
   "display_name": ".venv",
   "language": "python",
   "name": "python3"
  },
  "language_info": {
   "codemirror_mode": {
    "name": "ipython",
    "version": 3
   },
   "file_extension": ".py",
   "mimetype": "text/x-python",
   "name": "python",
   "nbconvert_exporter": "python",
   "pygments_lexer": "ipython3",
   "version": "3.11.5"
  }
 },
 "nbformat": 4,
 "nbformat_minor": 2
}
