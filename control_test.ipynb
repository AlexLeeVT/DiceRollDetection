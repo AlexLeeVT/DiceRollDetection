{
 "cells": [
  {
   "cell_type": "markdown",
   "metadata": {},
   "source": [
    "Code sourced from: <br>\n",
    "https://www.kaggle.com/code/stpeteishii/dice-yolov8-train-and-predict-2#Create-yaml-file\n",
    "<br>\n",
    "\n",
    "used solely for testing purposes!"
   ]
  },
  {
   "cell_type": "code",
   "execution_count": 1,
   "metadata": {},
   "outputs": [
    {
     "name": "stderr",
     "output_type": "stream",
     "text": [
      "C:\\Users\\samal\\AppData\\Local\\Packages\\PythonSoftwareFoundation.Python.3.11_qbz5n2kfra8p0\\LocalCache\\local-packages\\Python311\\site-packages\\tqdm\\auto.py:21: TqdmWarning: IProgress not found. Please update jupyter and ipywidgets. See https://ipywidgets.readthedocs.io/en/stable/user_install.html\n",
      "  from .autonotebook import tqdm as notebook_tqdm\n"
     ]
    },
    {
     "name": "stdout",
     "output_type": "stream",
     "text": [
      "Path to dataset files: C:\\Users\\samal\\.cache\\kagglehub\\datasets\\nellbyler\\d6-dice\\versions\\3\n"
     ]
    }
   ],
   "source": [
    "import kagglehub\n",
    "\n",
    "# Download latest version\n",
    "path = kagglehub.dataset_download(\"nellbyler/d6-dice\")\n",
    "\n",
    "ANNOTATION_PATH = path + \"\\\\d6-dice\\\\Annotations\"\n",
    "IMAGES_PATH = path + \"\\\\d6-dice\\\\Images\"\n",
    "\n",
    "print(\"Path to dataset files:\", path)"
   ]
  },
  {
   "cell_type": "code",
   "execution_count": 2,
   "metadata": {},
   "outputs": [
    {
     "name": "stdout",
     "output_type": "stream",
     "text": [
      "Ultralytics 8.3.39  Python-3.11.9 torch-2.5.1+cpu CPU (AMD Ryzen 7 5800X 8-Core Processor)\n",
      "Setup complete  (16 CPUs, 31.9 GB RAM, 813.5/930.6 GB disk)\n"
     ]
    }
   ],
   "source": [
    "import os\n",
    "import cv2\n",
    "import random\n",
    "import numpy as np\n",
    "import pandas as pd\n",
    "from tqdm import tqdm\n",
    "import shutil\n",
    "from shutil import copyfile\n",
    "import matplotlib.pyplot as plt\n",
    "from matplotlib import animation, rc\n",
    "rc('animation', html='jshtml')\n",
    "from PIL import Image\n",
    "import ultralytics\n",
    "from ultralytics import YOLO\n",
    "ultralytics.checks()"
   ]
  },
  {
   "cell_type": "code",
   "execution_count": 3,
   "metadata": {},
   "outputs": [],
   "source": [
    "train_path = 'datasets/train/'\n",
    "valid_path = 'datasets/valid/'\n",
    "test_path = 'datasets/test/'"
   ]
  },
  {
   "cell_type": "code",
   "execution_count": 4,
   "metadata": {},
   "outputs": [
    {
     "name": "stdout",
     "output_type": "stream",
     "text": [
      "250\n"
     ]
    }
   ],
   "source": [
    "# print(os.path.join(path, '/kaggle/input/d6-dice/d6-dice/Annotations'))\n",
    "\n",
    "\n",
    "ano_paths=[]\n",
    "for dirname, _, filenames in os.walk(ANNOTATION_PATH):\n",
    "    for filename in filenames:\n",
    "        if filename[-4:]=='.txt':\n",
    "            ano_paths+=[(os.path.join(dirname, filename))]\n",
    "\n",
    "ano_paths.pop(0);\n",
    "\n",
    "n=len(ano_paths) \n",
    "print(n)\n",
    "N=list(range(n))\n",
    "random.shuffle(N)\n",
    "\n",
    "train_ratio = 0.6\n",
    "valid_ratio = 0.2\n",
    "test_ratio = 0.2\n",
    "\n",
    "train_size = int(train_ratio*n)\n",
    "valid_size = int(valid_ratio*n)\n",
    "\n",
    "train_i = N[:train_size]\n",
    "valid_i = N[train_size:train_size+valid_size]\n",
    "test_i = N[train_size+valid_size:]\n",
    "\n",
    "# print(len(train_i))\n",
    "# print(len(valid_i))\n",
    "# print(len(test_i))"
   ]
  },
  {
   "cell_type": "code",
   "execution_count": 5,
   "metadata": {},
   "outputs": [],
   "source": [
    "if not os.path.exists('datasets/train/images'):\n",
    "    os.makedirs('datasets/train/images')\n",
    "if not os.path.exists('datasets/valid/images'):\n",
    "    os.makedirs('datasets/valid/images')\n",
    "if not os.path.exists('datasets/test/images'):\n",
    "    os.makedirs('datasets/test/images')\n",
    "if not os.path.exists('datasets/train/labels'):\n",
    "    os.makedirs('datasets/train/labels')\n",
    "if not os.path.exists('datasets/valid/labels'):\n",
    "    os.makedirs('datasets/valid/labels')\n",
    "if not os.path.exists('datasets/test/labels'):\n",
    "    os.makedirs('datasets/test/labels')\n",
    "\n",
    "delim = '\\\\'\n",
    "\n",
    "for i in train_i:\n",
    "    ano_path=ano_paths[i]\n",
    "    img_path=os.path.join(IMAGES_PATH,\n",
    "                          ano_path.split(delim)[-1][0:-4]+'.jpg')\n",
    "    \n",
    "    shutil.copy(ano_path, os.path.join(train_path + \"\\\\labels\\\\\", os.path.basename(ano_path)))\n",
    "    shutil.copy(img_path, os.path.join(train_path + \"\\\\images\\\\\", os.path.basename(img_path)))\n",
    "\n",
    "for i in valid_i:\n",
    "    ano_path=ano_paths[i]\n",
    "    img_path=os.path.join(IMAGES_PATH,\n",
    "                          ano_path.split(delim)[-1][0:-4]+'.jpg')\n",
    "    \n",
    "    shutil.copy(ano_path, os.path.join(valid_path + \"\\\\labels\\\\\", os.path.basename(ano_path)))\n",
    "    shutil.copy(img_path, os.path.join(valid_path + \"\\\\images\\\\\", os.path.basename(img_path)))\n",
    "\n",
    "for i in test_i:\n",
    "    ano_path=ano_paths[i]\n",
    "    img_path=os.path.join(IMAGES_PATH,\n",
    "                          ano_path.split(delim)[-1][0:-4]+'.jpg')\n",
    "    \n",
    "    shutil.copy(ano_path, os.path.join(test_path + \"\\\\labels\\\\\", os.path.basename(ano_path)))\n",
    "    shutil.copy(img_path, os.path.join(test_path + \"\\\\images\\\\\", os.path.basename(img_path)))\n",
    "\n",
    "\n",
    "# def count_files_in_subdirectories(path):\n",
    "#     total_files = 0\n",
    "#     for root, dirs, files in os.walk(path):\n",
    "#         total_files += len(files)\n",
    "#     return total_files\n",
    "\n",
    "# print(\"Number of files in train directory:\", count_files_in_subdirectories(train_path))\n",
    "# print(\"Number of files in valid directory:\", count_files_in_subdirectories(valid_path))\n",
    "# print(\"Number of files in test directory:\", count_files_in_subdirectories(test_path))"
   ]
  },
  {
   "cell_type": "code",
   "execution_count": null,
   "metadata": {},
   "outputs": [],
   "source": [
    "import yaml\n",
    "\n",
    "source_path = 'C:\\\\Users\\\\samal\\\\Computer-vision-project\\\\DiceRollDetection'\n",
    "#source_path = 'C:\\\\Users\\\\leeal\\\\OneDrive - Virginia Tech\\\\School\\\\Computer Vision\\\\DiceRollDetection'\n",
    "\n",
    "train_path = source_path+'\\\\datasets\\\\train'\n",
    "test_path = source_path+'\\\\datasets\\\\test'\n",
    "valid_path = source_path+'\\\\datasets\\\\valid'\n",
    "\n",
    "data_yaml = dict(\n",
    "    train =train_path,\n",
    "    val =valid_path,\n",
    "    test=test_path,\n",
    "    nc =6,\n",
    "    names =list('123456')\n",
    ")\n",
    "\n",
    "with open('data.yaml', 'w') as outfile:\n",
    "    yaml.dump(data_yaml, outfile, default_flow_style=True)"
   ]
  },
  {
   "cell_type": "code",
   "execution_count": 7,
   "metadata": {},
   "outputs": [],
   "source": [
    "names =list('123456')\n",
    "M=list(range(len(names)))\n",
    "class_map=dict(zip(M,names))"
   ]
  },
  {
   "cell_type": "code",
   "execution_count": 8,
   "metadata": {},
   "outputs": [
    {
     "name": "stdout",
     "output_type": "stream",
     "text": [
      "Downloading https://github.com/ultralytics/assets/releases/download/v8.3.0/yolov8x.pt to 'yolov8x.pt'...\n"
     ]
    },
    {
     "name": "stderr",
     "output_type": "stream",
     "text": [
      "100%|██████████| 131M/131M [00:03<00:00, 42.1MB/s] \n"
     ]
    }
   ],
   "source": [
    "model = YOLO(\"yolov8x.pt\") "
   ]
  },
  {
   "cell_type": "code",
   "execution_count": 9,
   "metadata": {},
   "outputs": [
    {
     "name": "stdout",
     "output_type": "stream",
     "text": [
      "Ultralytics 8.3.39 🚀 Python-3.11.9 torch-2.5.1+cpu CPU (AMD Ryzen 7 5800X 8-Core Processor)\n",
      "\u001b[34m\u001b[1mengine\\trainer: \u001b[0mtask=detect, mode=train, model=yolov8x.pt, data=data.yaml, epochs=12, time=None, patience=100, batch=16, imgsz=480, save=True, save_period=-1, cache=False, device=None, workers=8, project=None, name=train5, exist_ok=False, pretrained=True, optimizer=auto, verbose=True, seed=0, deterministic=True, single_cls=False, rect=False, cos_lr=False, close_mosaic=10, resume=False, amp=True, fraction=1.0, profile=False, freeze=None, multi_scale=False, overlap_mask=True, mask_ratio=4, dropout=0.0, val=True, split=val, save_json=False, save_hybrid=False, conf=None, iou=0.7, max_det=300, half=False, dnn=False, plots=True, source=None, vid_stride=1, stream_buffer=False, visualize=False, augment=False, agnostic_nms=False, classes=None, retina_masks=False, embed=None, show=False, save_frames=False, save_txt=False, save_conf=False, save_crop=False, show_labels=True, show_conf=True, show_boxes=True, line_width=None, format=torchscript, keras=False, optimize=False, int8=False, dynamic=False, simplify=True, opset=None, workspace=None, nms=False, lr0=0.01, lrf=0.01, momentum=0.937, weight_decay=0.0005, warmup_epochs=3.0, warmup_momentum=0.8, warmup_bias_lr=0.1, box=7.5, cls=0.5, dfl=1.5, pose=12.0, kobj=1.0, nbs=64, hsv_h=0.015, hsv_s=0.7, hsv_v=0.4, degrees=0.0, translate=0.1, scale=0.5, shear=0.0, perspective=0.0, flipud=0.0, fliplr=0.5, bgr=0.0, mosaic=1.0, mixup=0.0, copy_paste=0.0, copy_paste_mode=flip, auto_augment=randaugment, erasing=0.4, crop_fraction=1.0, cfg=None, tracker=botsort.yaml, save_dir=runs\\detect\\train5\n"
     ]
    },
    {
     "name": "stderr",
     "output_type": "stream",
     "text": [
      "Traceback (most recent call last):\n",
      "  File \"C:\\Users\\samal\\AppData\\Local\\Packages\\PythonSoftwareFoundation.Python.3.11_qbz5n2kfra8p0\\LocalCache\\local-packages\\Python311\\site-packages\\ultralytics\\engine\\trainer.py\", line 562, in get_dataset\n",
      "    data = check_det_dataset(self.args.data)\n",
      "           ^^^^^^^^^^^^^^^^^^^^^^^^^^^^^^^^^\n",
      "  File \"C:\\Users\\samal\\AppData\\Local\\Packages\\PythonSoftwareFoundation.Python.3.11_qbz5n2kfra8p0\\LocalCache\\local-packages\\Python311\\site-packages\\ultralytics\\data\\utils.py\", line 329, in check_det_dataset\n",
      "    raise FileNotFoundError(m)\n",
      "FileNotFoundError: \n",
      "Dataset 'data.yaml' images not found ⚠️, missing path 'C:\\Users\\leeal\\OneDrive - Virginia Tech\\School\\Computer Vision\\DiceRollDetection\\datasets\\valid'\n",
      "Note dataset download directory is 'C:\\Users\\samal\\COmputer vision project\\DiceRollDetection\\datasets'. You can update this in 'C:\\Users\\samal\\AppData\\Roaming\\Ultralytics\\settings.json'\n",
      "\n",
      "The above exception was the direct cause of the following exception:\n",
      "\n",
      "Traceback (most recent call last):\n",
      "  File \"<frozen runpy>\", line 198, in _run_module_as_main\n",
      "  File \"<frozen runpy>\", line 88, in _run_code\n",
      "  File \"c:\\Users\\samal\\AppData\\Local\\Packages\\PythonSoftwareFoundation.Python.3.11_qbz5n2kfra8p0\\LocalCache\\local-packages\\Python311\\Scripts\\yolo.exe\\__main__.py\", line 7, in <module>\n",
      "  File \"C:\\Users\\samal\\AppData\\Local\\Packages\\PythonSoftwareFoundation.Python.3.11_qbz5n2kfra8p0\\LocalCache\\local-packages\\Python311\\site-packages\\ultralytics\\cfg\\__init__.py\", line 969, in entrypoint\n",
      "    getattr(model, mode)(**overrides)  # default args from model\n",
      "    ^^^^^^^^^^^^^^^^^^^^^^^^^^^^^^^^^\n",
      "  File \"C:\\Users\\samal\\AppData\\Local\\Packages\\PythonSoftwareFoundation.Python.3.11_qbz5n2kfra8p0\\LocalCache\\local-packages\\Python311\\site-packages\\ultralytics\\engine\\model.py\", line 799, in train\n",
      "    self.trainer = (trainer or self._smart_load(\"trainer\"))(overrides=args, _callbacks=self.callbacks)\n",
      "                   ^^^^^^^^^^^^^^^^^^^^^^^^^^^^^^^^^^^^^^^^^^^^^^^^^^^^^^^^^^^^^^^^^^^^^^^^^^^^^^^^^^^\n",
      "  File \"C:\\Users\\samal\\AppData\\Local\\Packages\\PythonSoftwareFoundation.Python.3.11_qbz5n2kfra8p0\\LocalCache\\local-packages\\Python311\\site-packages\\ultralytics\\engine\\trainer.py\", line 133, in __init__\n",
      "    self.trainset, self.testset = self.get_dataset()\n",
      "                                  ^^^^^^^^^^^^^^^^^^\n",
      "  File \"C:\\Users\\samal\\AppData\\Local\\Packages\\PythonSoftwareFoundation.Python.3.11_qbz5n2kfra8p0\\LocalCache\\local-packages\\Python311\\site-packages\\ultralytics\\engine\\trainer.py\", line 566, in get_dataset\n",
      "    raise RuntimeError(emojis(f\"Dataset '{clean_url(self.args.data)}' error ❌ {e}\")) from e\n",
      "RuntimeError: Dataset 'data.yaml' error  \n",
      "Dataset 'data.yaml' images not found , missing path 'C:\\Users\\leeal\\OneDrive - Virginia Tech\\School\\Computer Vision\\DiceRollDetection\\datasets\\valid'\n",
      "Note dataset download directory is 'C:\\Users\\samal\\COmputer vision project\\DiceRollDetection\\datasets'. You can update this in 'C:\\Users\\samal\\AppData\\Roaming\\Ultralytics\\settings.json'\n"
     ]
    }
   ],
   "source": [
    "!yolo task=detect mode=train model=yolov8x.pt data=data.yaml epochs=12 imgsz=480"
   ]
  },
  {
   "cell_type": "code",
   "execution_count": null,
   "metadata": {},
   "outputs": [],
   "source": []
  }
 ],
 "metadata": {
  "kernelspec": {
   "display_name": "Python 3",
   "language": "python",
   "name": "python3"
  },
  "language_info": {
   "codemirror_mode": {
    "name": "ipython",
    "version": 3
   },
   "file_extension": ".py",
   "mimetype": "text/x-python",
   "name": "python",
   "nbconvert_exporter": "python",
   "pygments_lexer": "ipython3",
   "version": "3.11.9"
  }
 },
 "nbformat": 4,
 "nbformat_minor": 2
}
